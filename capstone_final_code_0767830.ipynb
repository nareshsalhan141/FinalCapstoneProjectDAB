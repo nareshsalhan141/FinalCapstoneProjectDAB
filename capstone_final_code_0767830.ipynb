{
  "cells": [
    {
      "cell_type": "markdown",
      "source": [
        "# Name:- ***Naresh Kumar ***\n",
        "#Student Id:- ***0767830***\n",
        "#Capstone Project Name :- ***GOOGLE PLAY STORE APPLICATION ANALYSIS***"
      ],
      "metadata": {
        "id": "n5M9HGMIDF30"
      }
    },
    {
      "cell_type": "code",
      "execution_count": 1,
      "metadata": {
        "id": "LE8lVxt9s_1-"
      },
      "outputs": [],
      "source": [
        "#Import libraries\n",
        "\n",
        "import pandas as pd #(used for data mnipulation nd analysis)\n",
        "import matplotlib.pyplot as plt # to create plots\n",
        "import seaborn as sns #Used for data visualising and exploratory data analysis\n",
        "import numpy as np # used for mathematiucal calculations\n",
        "import warnings \n",
        "warnings.filterwarnings('ignore')"
      ]
    },
    {
      "cell_type": "code",
      "execution_count": 2,
      "metadata": {
        "id": "j6JBplDWtPBq"
      },
      "outputs": [],
      "source": [
        "data = pd.read_csv('/content/androiddataset.csv')"
      ]
    },
    {
      "cell_type": "code",
      "execution_count": 3,
      "metadata": {
        "colab": {
          "base_uri": "https://localhost:8080/"
        },
        "id": "5fKbmgs4ta3E",
        "outputId": "eb991316-b1f1-45fa-e831-2de0d4d221d6"
      },
      "outputs": [
        {
          "output_type": "execute_result",
          "data": {
            "text/plain": [
              "(306605, 24)"
            ]
          },
          "metadata": {},
          "execution_count": 3
        }
      ],
      "source": [
        "#check the shape(number of records and attributes in data frame)\n",
        "data.shape"
      ]
    },
    {
      "cell_type": "code",
      "execution_count": 4,
      "metadata": {
        "colab": {
          "base_uri": "https://localhost:8080/",
          "height": 785
        },
        "id": "XZkDjwnKtuzs",
        "outputId": "91cf130c-39ab-437b-f3de-a5f3e212c150"
      },
      "outputs": [
        {
          "output_type": "execute_result",
          "data": {
            "text/plain": [
              "                                            App_Name  \\\n",
              "0                                            Gakondo   \n",
              "1                                Ampere Battery Info   \n",
              "2                                             Vibook   \n",
              "3  Smart City Trichy Public Service Vehicles 17UC...   \n",
              "4                                            GROW.me   \n",
              "5                                             IMOCCI   \n",
              "6                   unlimited 4G data prank free app   \n",
              "7                              The Everyday Calendar   \n",
              "8                                          WhatsOpen   \n",
              "9                   Neon 3d Iron Tech Keyboard Theme   \n",
              "\n",
              "                                          App_Id          Category  Rating  \\\n",
              "0                            com.ishakwe.gakondo         Adventure     0.0   \n",
              "1                     com.webserveis.batteryinfo             Tools     4.4   \n",
              "2                           com.doantiepvien.crm      Productivity     0.0   \n",
              "3                        cst.stJoseph.ug17ucs548     Communication     5.0   \n",
              "4                           com.horodyski.grower             Tools     0.0   \n",
              "5                                     com.imocci            Social     0.0   \n",
              "6  getfreedata.superfatiza.unlimitedjiodataprank  Libraries & Demo     4.5   \n",
              "7                         com.mozaix.simoneboard         Lifestyle     2.0   \n",
              "8                              com.whatsopen.app     Communication     0.0   \n",
              "9          com.ikeyboard.theme.neon_3d.iron.tech   Personalization     4.7   \n",
              "\n",
              "   Rating_Count Installs  Minimum_Installs  Maximum_Installs  Free  Price  \\\n",
              "0           0.0      10+              10.0                15  True    0.0   \n",
              "1          64.0   5,000+            5000.0              7662  True    0.0   \n",
              "2           0.0      50+              50.0                58  True    0.0   \n",
              "3           5.0      10+              10.0                19  True    0.0   \n",
              "4           0.0     100+             100.0               478  True    0.0   \n",
              "5           0.0      50+              50.0                89  True    0.0   \n",
              "6          12.0   1,000+            1000.0              2567  True    0.0   \n",
              "7          39.0     500+             500.0               702  True    0.0   \n",
              "8           0.0      10+              10.0                18  True    0.0   \n",
              "9         820.0  50,000+           50000.0             62433  True    0.0   \n",
              "\n",
              "   ...                    Developer_Website                  Developer_Email  \\\n",
              "0  ...          https://beniyizibyose.tk/#/           jean21101999@gmail.com   \n",
              "1  ...      https://webserveis.netlify.app/             webserveis@gmail.com   \n",
              "2  ...                                  NaN              vnacrewit@gmail.com   \n",
              "3  ...     http://www.climatesmarttech.com/      climatesmarttech2@gmail.com   \n",
              "4  ...          http://www.horodyski.com.pl        rmilekhorodyski@gmail.com   \n",
              "5  ...                http://www.imocci.com                  info@imocci.com   \n",
              "6  ...                                  NaN  aitomgharfatimezzahra@gmail.com   \n",
              "7  ...                                  NaN          elementuser03@gmail.com   \n",
              "8  ...             http://yilvermolinah.com          yilver.mh1996@gmail.com   \n",
              "9  ...  https://trendyteme888-31139.web.app         trendyteme.888@gmail.com   \n",
              "\n",
              "    Released Last_Updated Content_Rating  \\\n",
              "0  26-Feb-20    26-Feb-20       Everyone   \n",
              "1  21-May-20     6-May-21       Everyone   \n",
              "2   9-Aug-19    19-Aug-19       Everyone   \n",
              "3  10-Sep-18    13-Oct-18       Everyone   \n",
              "4  21-Feb-20    12-Nov-18       Everyone   \n",
              "5  24-Dec-18    20-Dec-19           Teen   \n",
              "6  23-Sep-19    27-Sep-19       Everyone   \n",
              "7  21-Jun-19    21-Jun-19       Everyone   \n",
              "8        NaN     7-Dec-18           Teen   \n",
              "9  22-Sep-19     7-Oct-20       Everyone   \n",
              "\n",
              "                                      Privacy_Policy Ad_Supported  \\\n",
              "0                 https://beniyizibyose.tk/projects/        False   \n",
              "1  https://dev4phones.wordpress.com/licencia-de-uso/         True   \n",
              "2  https://www.vietnamairlines.com/vn/en/terms-an...        False   \n",
              "3                                                NaN         True   \n",
              "4                        http://www.horodyski.com.pl        False   \n",
              "5  https://www.imocci.com/wp-content/uploads/2018...        False   \n",
              "6  https://sites.google.com/view/unlimited4gdatap...         True   \n",
              "7  https://www.freeprivacypolicy.com/privacy/view...        False   \n",
              "8  http://elcafedelamanana.yilvermolinah.com/poli...        False   \n",
              "9                        http://bit.ly/EmojiThemePro         True   \n",
              "\n",
              "  In_App_Purchases Editors_Choice     Scraped_Time  \n",
              "0            False          False  6/15/2021 20:19  \n",
              "1            False          False  6/15/2021 20:19  \n",
              "2            False          False  6/15/2021 20:19  \n",
              "3            False          False  6/15/2021 20:19  \n",
              "4            False          False  6/15/2021 20:19  \n",
              "5             True          False  6/15/2021 20:19  \n",
              "6            False          False  6/15/2021 20:19  \n",
              "7            False          False  6/15/2021 20:19  \n",
              "8            False          False  6/15/2021 20:19  \n",
              "9            False          False  6/15/2021 20:19  \n",
              "\n",
              "[10 rows x 24 columns]"
            ],
            "text/html": [
              "\n",
              "  <div id=\"df-d8e6223d-1f08-4548-b9a5-b0818e80efce\">\n",
              "    <div class=\"colab-df-container\">\n",
              "      <div>\n",
              "<style scoped>\n",
              "    .dataframe tbody tr th:only-of-type {\n",
              "        vertical-align: middle;\n",
              "    }\n",
              "\n",
              "    .dataframe tbody tr th {\n",
              "        vertical-align: top;\n",
              "    }\n",
              "\n",
              "    .dataframe thead th {\n",
              "        text-align: right;\n",
              "    }\n",
              "</style>\n",
              "<table border=\"1\" class=\"dataframe\">\n",
              "  <thead>\n",
              "    <tr style=\"text-align: right;\">\n",
              "      <th></th>\n",
              "      <th>App_Name</th>\n",
              "      <th>App_Id</th>\n",
              "      <th>Category</th>\n",
              "      <th>Rating</th>\n",
              "      <th>Rating_Count</th>\n",
              "      <th>Installs</th>\n",
              "      <th>Minimum_Installs</th>\n",
              "      <th>Maximum_Installs</th>\n",
              "      <th>Free</th>\n",
              "      <th>Price</th>\n",
              "      <th>...</th>\n",
              "      <th>Developer_Website</th>\n",
              "      <th>Developer_Email</th>\n",
              "      <th>Released</th>\n",
              "      <th>Last_Updated</th>\n",
              "      <th>Content_Rating</th>\n",
              "      <th>Privacy_Policy</th>\n",
              "      <th>Ad_Supported</th>\n",
              "      <th>In_App_Purchases</th>\n",
              "      <th>Editors_Choice</th>\n",
              "      <th>Scraped_Time</th>\n",
              "    </tr>\n",
              "  </thead>\n",
              "  <tbody>\n",
              "    <tr>\n",
              "      <th>0</th>\n",
              "      <td>Gakondo</td>\n",
              "      <td>com.ishakwe.gakondo</td>\n",
              "      <td>Adventure</td>\n",
              "      <td>0.0</td>\n",
              "      <td>0.0</td>\n",
              "      <td>10+</td>\n",
              "      <td>10.0</td>\n",
              "      <td>15</td>\n",
              "      <td>True</td>\n",
              "      <td>0.0</td>\n",
              "      <td>...</td>\n",
              "      <td>https://beniyizibyose.tk/#/</td>\n",
              "      <td>jean21101999@gmail.com</td>\n",
              "      <td>26-Feb-20</td>\n",
              "      <td>26-Feb-20</td>\n",
              "      <td>Everyone</td>\n",
              "      <td>https://beniyizibyose.tk/projects/</td>\n",
              "      <td>False</td>\n",
              "      <td>False</td>\n",
              "      <td>False</td>\n",
              "      <td>6/15/2021 20:19</td>\n",
              "    </tr>\n",
              "    <tr>\n",
              "      <th>1</th>\n",
              "      <td>Ampere Battery Info</td>\n",
              "      <td>com.webserveis.batteryinfo</td>\n",
              "      <td>Tools</td>\n",
              "      <td>4.4</td>\n",
              "      <td>64.0</td>\n",
              "      <td>5,000+</td>\n",
              "      <td>5000.0</td>\n",
              "      <td>7662</td>\n",
              "      <td>True</td>\n",
              "      <td>0.0</td>\n",
              "      <td>...</td>\n",
              "      <td>https://webserveis.netlify.app/</td>\n",
              "      <td>webserveis@gmail.com</td>\n",
              "      <td>21-May-20</td>\n",
              "      <td>6-May-21</td>\n",
              "      <td>Everyone</td>\n",
              "      <td>https://dev4phones.wordpress.com/licencia-de-uso/</td>\n",
              "      <td>True</td>\n",
              "      <td>False</td>\n",
              "      <td>False</td>\n",
              "      <td>6/15/2021 20:19</td>\n",
              "    </tr>\n",
              "    <tr>\n",
              "      <th>2</th>\n",
              "      <td>Vibook</td>\n",
              "      <td>com.doantiepvien.crm</td>\n",
              "      <td>Productivity</td>\n",
              "      <td>0.0</td>\n",
              "      <td>0.0</td>\n",
              "      <td>50+</td>\n",
              "      <td>50.0</td>\n",
              "      <td>58</td>\n",
              "      <td>True</td>\n",
              "      <td>0.0</td>\n",
              "      <td>...</td>\n",
              "      <td>NaN</td>\n",
              "      <td>vnacrewit@gmail.com</td>\n",
              "      <td>9-Aug-19</td>\n",
              "      <td>19-Aug-19</td>\n",
              "      <td>Everyone</td>\n",
              "      <td>https://www.vietnamairlines.com/vn/en/terms-an...</td>\n",
              "      <td>False</td>\n",
              "      <td>False</td>\n",
              "      <td>False</td>\n",
              "      <td>6/15/2021 20:19</td>\n",
              "    </tr>\n",
              "    <tr>\n",
              "      <th>3</th>\n",
              "      <td>Smart City Trichy Public Service Vehicles 17UC...</td>\n",
              "      <td>cst.stJoseph.ug17ucs548</td>\n",
              "      <td>Communication</td>\n",
              "      <td>5.0</td>\n",
              "      <td>5.0</td>\n",
              "      <td>10+</td>\n",
              "      <td>10.0</td>\n",
              "      <td>19</td>\n",
              "      <td>True</td>\n",
              "      <td>0.0</td>\n",
              "      <td>...</td>\n",
              "      <td>http://www.climatesmarttech.com/</td>\n",
              "      <td>climatesmarttech2@gmail.com</td>\n",
              "      <td>10-Sep-18</td>\n",
              "      <td>13-Oct-18</td>\n",
              "      <td>Everyone</td>\n",
              "      <td>NaN</td>\n",
              "      <td>True</td>\n",
              "      <td>False</td>\n",
              "      <td>False</td>\n",
              "      <td>6/15/2021 20:19</td>\n",
              "    </tr>\n",
              "    <tr>\n",
              "      <th>4</th>\n",
              "      <td>GROW.me</td>\n",
              "      <td>com.horodyski.grower</td>\n",
              "      <td>Tools</td>\n",
              "      <td>0.0</td>\n",
              "      <td>0.0</td>\n",
              "      <td>100+</td>\n",
              "      <td>100.0</td>\n",
              "      <td>478</td>\n",
              "      <td>True</td>\n",
              "      <td>0.0</td>\n",
              "      <td>...</td>\n",
              "      <td>http://www.horodyski.com.pl</td>\n",
              "      <td>rmilekhorodyski@gmail.com</td>\n",
              "      <td>21-Feb-20</td>\n",
              "      <td>12-Nov-18</td>\n",
              "      <td>Everyone</td>\n",
              "      <td>http://www.horodyski.com.pl</td>\n",
              "      <td>False</td>\n",
              "      <td>False</td>\n",
              "      <td>False</td>\n",
              "      <td>6/15/2021 20:19</td>\n",
              "    </tr>\n",
              "    <tr>\n",
              "      <th>5</th>\n",
              "      <td>IMOCCI</td>\n",
              "      <td>com.imocci</td>\n",
              "      <td>Social</td>\n",
              "      <td>0.0</td>\n",
              "      <td>0.0</td>\n",
              "      <td>50+</td>\n",
              "      <td>50.0</td>\n",
              "      <td>89</td>\n",
              "      <td>True</td>\n",
              "      <td>0.0</td>\n",
              "      <td>...</td>\n",
              "      <td>http://www.imocci.com</td>\n",
              "      <td>info@imocci.com</td>\n",
              "      <td>24-Dec-18</td>\n",
              "      <td>20-Dec-19</td>\n",
              "      <td>Teen</td>\n",
              "      <td>https://www.imocci.com/wp-content/uploads/2018...</td>\n",
              "      <td>False</td>\n",
              "      <td>True</td>\n",
              "      <td>False</td>\n",
              "      <td>6/15/2021 20:19</td>\n",
              "    </tr>\n",
              "    <tr>\n",
              "      <th>6</th>\n",
              "      <td>unlimited 4G data prank free app</td>\n",
              "      <td>getfreedata.superfatiza.unlimitedjiodataprank</td>\n",
              "      <td>Libraries &amp; Demo</td>\n",
              "      <td>4.5</td>\n",
              "      <td>12.0</td>\n",
              "      <td>1,000+</td>\n",
              "      <td>1000.0</td>\n",
              "      <td>2567</td>\n",
              "      <td>True</td>\n",
              "      <td>0.0</td>\n",
              "      <td>...</td>\n",
              "      <td>NaN</td>\n",
              "      <td>aitomgharfatimezzahra@gmail.com</td>\n",
              "      <td>23-Sep-19</td>\n",
              "      <td>27-Sep-19</td>\n",
              "      <td>Everyone</td>\n",
              "      <td>https://sites.google.com/view/unlimited4gdatap...</td>\n",
              "      <td>True</td>\n",
              "      <td>False</td>\n",
              "      <td>False</td>\n",
              "      <td>6/15/2021 20:19</td>\n",
              "    </tr>\n",
              "    <tr>\n",
              "      <th>7</th>\n",
              "      <td>The Everyday Calendar</td>\n",
              "      <td>com.mozaix.simoneboard</td>\n",
              "      <td>Lifestyle</td>\n",
              "      <td>2.0</td>\n",
              "      <td>39.0</td>\n",
              "      <td>500+</td>\n",
              "      <td>500.0</td>\n",
              "      <td>702</td>\n",
              "      <td>True</td>\n",
              "      <td>0.0</td>\n",
              "      <td>...</td>\n",
              "      <td>NaN</td>\n",
              "      <td>elementuser03@gmail.com</td>\n",
              "      <td>21-Jun-19</td>\n",
              "      <td>21-Jun-19</td>\n",
              "      <td>Everyone</td>\n",
              "      <td>https://www.freeprivacypolicy.com/privacy/view...</td>\n",
              "      <td>False</td>\n",
              "      <td>False</td>\n",
              "      <td>False</td>\n",
              "      <td>6/15/2021 20:19</td>\n",
              "    </tr>\n",
              "    <tr>\n",
              "      <th>8</th>\n",
              "      <td>WhatsOpen</td>\n",
              "      <td>com.whatsopen.app</td>\n",
              "      <td>Communication</td>\n",
              "      <td>0.0</td>\n",
              "      <td>0.0</td>\n",
              "      <td>10+</td>\n",
              "      <td>10.0</td>\n",
              "      <td>18</td>\n",
              "      <td>True</td>\n",
              "      <td>0.0</td>\n",
              "      <td>...</td>\n",
              "      <td>http://yilvermolinah.com</td>\n",
              "      <td>yilver.mh1996@gmail.com</td>\n",
              "      <td>NaN</td>\n",
              "      <td>7-Dec-18</td>\n",
              "      <td>Teen</td>\n",
              "      <td>http://elcafedelamanana.yilvermolinah.com/poli...</td>\n",
              "      <td>False</td>\n",
              "      <td>False</td>\n",
              "      <td>False</td>\n",
              "      <td>6/15/2021 20:19</td>\n",
              "    </tr>\n",
              "    <tr>\n",
              "      <th>9</th>\n",
              "      <td>Neon 3d Iron Tech Keyboard Theme</td>\n",
              "      <td>com.ikeyboard.theme.neon_3d.iron.tech</td>\n",
              "      <td>Personalization</td>\n",
              "      <td>4.7</td>\n",
              "      <td>820.0</td>\n",
              "      <td>50,000+</td>\n",
              "      <td>50000.0</td>\n",
              "      <td>62433</td>\n",
              "      <td>True</td>\n",
              "      <td>0.0</td>\n",
              "      <td>...</td>\n",
              "      <td>https://trendyteme888-31139.web.app</td>\n",
              "      <td>trendyteme.888@gmail.com</td>\n",
              "      <td>22-Sep-19</td>\n",
              "      <td>7-Oct-20</td>\n",
              "      <td>Everyone</td>\n",
              "      <td>http://bit.ly/EmojiThemePro</td>\n",
              "      <td>True</td>\n",
              "      <td>False</td>\n",
              "      <td>False</td>\n",
              "      <td>6/15/2021 20:19</td>\n",
              "    </tr>\n",
              "  </tbody>\n",
              "</table>\n",
              "<p>10 rows × 24 columns</p>\n",
              "</div>\n",
              "      <button class=\"colab-df-convert\" onclick=\"convertToInteractive('df-d8e6223d-1f08-4548-b9a5-b0818e80efce')\"\n",
              "              title=\"Convert this dataframe to an interactive table.\"\n",
              "              style=\"display:none;\">\n",
              "        \n",
              "  <svg xmlns=\"http://www.w3.org/2000/svg\" height=\"24px\"viewBox=\"0 0 24 24\"\n",
              "       width=\"24px\">\n",
              "    <path d=\"M0 0h24v24H0V0z\" fill=\"none\"/>\n",
              "    <path d=\"M18.56 5.44l.94 2.06.94-2.06 2.06-.94-2.06-.94-.94-2.06-.94 2.06-2.06.94zm-11 1L8.5 8.5l.94-2.06 2.06-.94-2.06-.94L8.5 2.5l-.94 2.06-2.06.94zm10 10l.94 2.06.94-2.06 2.06-.94-2.06-.94-.94-2.06-.94 2.06-2.06.94z\"/><path d=\"M17.41 7.96l-1.37-1.37c-.4-.4-.92-.59-1.43-.59-.52 0-1.04.2-1.43.59L10.3 9.45l-7.72 7.72c-.78.78-.78 2.05 0 2.83L4 21.41c.39.39.9.59 1.41.59.51 0 1.02-.2 1.41-.59l7.78-7.78 2.81-2.81c.8-.78.8-2.07 0-2.86zM5.41 20L4 18.59l7.72-7.72 1.47 1.35L5.41 20z\"/>\n",
              "  </svg>\n",
              "      </button>\n",
              "      \n",
              "  <style>\n",
              "    .colab-df-container {\n",
              "      display:flex;\n",
              "      flex-wrap:wrap;\n",
              "      gap: 12px;\n",
              "    }\n",
              "\n",
              "    .colab-df-convert {\n",
              "      background-color: #E8F0FE;\n",
              "      border: none;\n",
              "      border-radius: 50%;\n",
              "      cursor: pointer;\n",
              "      display: none;\n",
              "      fill: #1967D2;\n",
              "      height: 32px;\n",
              "      padding: 0 0 0 0;\n",
              "      width: 32px;\n",
              "    }\n",
              "\n",
              "    .colab-df-convert:hover {\n",
              "      background-color: #E2EBFA;\n",
              "      box-shadow: 0px 1px 2px rgba(60, 64, 67, 0.3), 0px 1px 3px 1px rgba(60, 64, 67, 0.15);\n",
              "      fill: #174EA6;\n",
              "    }\n",
              "\n",
              "    [theme=dark] .colab-df-convert {\n",
              "      background-color: #3B4455;\n",
              "      fill: #D2E3FC;\n",
              "    }\n",
              "\n",
              "    [theme=dark] .colab-df-convert:hover {\n",
              "      background-color: #434B5C;\n",
              "      box-shadow: 0px 1px 3px 1px rgba(0, 0, 0, 0.15);\n",
              "      filter: drop-shadow(0px 1px 2px rgba(0, 0, 0, 0.3));\n",
              "      fill: #FFFFFF;\n",
              "    }\n",
              "  </style>\n",
              "\n",
              "      <script>\n",
              "        const buttonEl =\n",
              "          document.querySelector('#df-d8e6223d-1f08-4548-b9a5-b0818e80efce button.colab-df-convert');\n",
              "        buttonEl.style.display =\n",
              "          google.colab.kernel.accessAllowed ? 'block' : 'none';\n",
              "\n",
              "        async function convertToInteractive(key) {\n",
              "          const element = document.querySelector('#df-d8e6223d-1f08-4548-b9a5-b0818e80efce');\n",
              "          const dataTable =\n",
              "            await google.colab.kernel.invokeFunction('convertToInteractive',\n",
              "                                                     [key], {});\n",
              "          if (!dataTable) return;\n",
              "\n",
              "          const docLinkHtml = 'Like what you see? Visit the ' +\n",
              "            '<a target=\"_blank\" href=https://colab.research.google.com/notebooks/data_table.ipynb>data table notebook</a>'\n",
              "            + ' to learn more about interactive tables.';\n",
              "          element.innerHTML = '';\n",
              "          dataTable['output_type'] = 'display_data';\n",
              "          await google.colab.output.renderOutput(dataTable, element);\n",
              "          const docLink = document.createElement('div');\n",
              "          docLink.innerHTML = docLinkHtml;\n",
              "          element.appendChild(docLink);\n",
              "        }\n",
              "      </script>\n",
              "    </div>\n",
              "  </div>\n",
              "  "
            ]
          },
          "metadata": {},
          "execution_count": 4
        }
      ],
      "source": [
        "#printing the top 10 rows\n",
        "data.head(10)"
      ]
    },
    {
      "cell_type": "code",
      "execution_count": 5,
      "metadata": {
        "colab": {
          "base_uri": "https://localhost:8080/",
          "height": 917
        },
        "id": "VcujnuxPvP2l",
        "outputId": "bc947ebc-681d-43f1-b103-0c29f0ca3e8f"
      },
      "outputs": [
        {
          "output_type": "execute_result",
          "data": {
            "text/plain": [
              "                                                    0  \\\n",
              "App_Name                                      Gakondo   \n",
              "App_Id                            com.ishakwe.gakondo   \n",
              "Category                                    Adventure   \n",
              "Rating                                            0.0   \n",
              "Rating_Count                                      0.0   \n",
              "Installs                                          10+   \n",
              "Minimum_Installs                                 10.0   \n",
              "Maximum_Installs                                   15   \n",
              "Free                                             True   \n",
              "Price                                             0.0   \n",
              "Currency                                          USD   \n",
              "Size                                              10M   \n",
              "Minimum_Android                            7.1 and up   \n",
              "Developer_Id        Jean Confident Irénée NIYIZIBYOSE   \n",
              "Developer_Website         https://beniyizibyose.tk/#/   \n",
              "Developer_Email                jean21101999@gmail.com   \n",
              "Released                                    26-Feb-20   \n",
              "Last_Updated                                26-Feb-20   \n",
              "Content_Rating                               Everyone   \n",
              "Privacy_Policy     https://beniyizibyose.tk/projects/   \n",
              "Ad_Supported                                    False   \n",
              "In_App_Purchases                                False   \n",
              "Editors_Choice                                  False   \n",
              "Scraped_Time                          6/15/2021 20:19   \n",
              "\n",
              "                                                                   1  \\\n",
              "App_Name                                         Ampere Battery Info   \n",
              "App_Id                                    com.webserveis.batteryinfo   \n",
              "Category                                                       Tools   \n",
              "Rating                                                           4.4   \n",
              "Rating_Count                                                    64.0   \n",
              "Installs                                                      5,000+   \n",
              "Minimum_Installs                                              5000.0   \n",
              "Maximum_Installs                                                7662   \n",
              "Free                                                            True   \n",
              "Price                                                            0.0   \n",
              "Currency                                                         USD   \n",
              "Size                                                            2.9M   \n",
              "Minimum_Android                                           5.0 and up   \n",
              "Developer_Id                                              Webserveis   \n",
              "Developer_Website                    https://webserveis.netlify.app/   \n",
              "Developer_Email                                 webserveis@gmail.com   \n",
              "Released                                                   21-May-20   \n",
              "Last_Updated                                                6-May-21   \n",
              "Content_Rating                                              Everyone   \n",
              "Privacy_Policy     https://dev4phones.wordpress.com/licencia-de-uso/   \n",
              "Ad_Supported                                                    True   \n",
              "In_App_Purchases                                               False   \n",
              "Editors_Choice                                                 False   \n",
              "Scraped_Time                                         6/15/2021 20:19   \n",
              "\n",
              "                                                                   2  \\\n",
              "App_Name                                                      Vibook   \n",
              "App_Id                                          com.doantiepvien.crm   \n",
              "Category                                                Productivity   \n",
              "Rating                                                           0.0   \n",
              "Rating_Count                                                     0.0   \n",
              "Installs                                                         50+   \n",
              "Minimum_Installs                                                50.0   \n",
              "Maximum_Installs                                                  58   \n",
              "Free                                                            True   \n",
              "Price                                                            0.0   \n",
              "Currency                                                         USD   \n",
              "Size                                                            3.7M   \n",
              "Minimum_Android                                         4.0.3 and up   \n",
              "Developer_Id                                              Cabin Crew   \n",
              "Developer_Website                                                NaN   \n",
              "Developer_Email                                  vnacrewit@gmail.com   \n",
              "Released                                                    9-Aug-19   \n",
              "Last_Updated                                               19-Aug-19   \n",
              "Content_Rating                                              Everyone   \n",
              "Privacy_Policy     https://www.vietnamairlines.com/vn/en/terms-an...   \n",
              "Ad_Supported                                                   False   \n",
              "In_App_Purchases                                               False   \n",
              "Editors_Choice                                                 False   \n",
              "Scraped_Time                                         6/15/2021 20:19   \n",
              "\n",
              "                                                                   3  \\\n",
              "App_Name           Smart City Trichy Public Service Vehicles 17UC...   \n",
              "App_Id                                       cst.stJoseph.ug17ucs548   \n",
              "Category                                               Communication   \n",
              "Rating                                                           5.0   \n",
              "Rating_Count                                                     5.0   \n",
              "Installs                                                         10+   \n",
              "Minimum_Installs                                                10.0   \n",
              "Maximum_Installs                                                  19   \n",
              "Free                                                            True   \n",
              "Price                                                            0.0   \n",
              "Currency                                                         USD   \n",
              "Size                                                            1.8M   \n",
              "Minimum_Android                                         4.0.3 and up   \n",
              "Developer_Id                                     Climate Smart Tech2   \n",
              "Developer_Website                   http://www.climatesmarttech.com/   \n",
              "Developer_Email                          climatesmarttech2@gmail.com   \n",
              "Released                                                   10-Sep-18   \n",
              "Last_Updated                                               13-Oct-18   \n",
              "Content_Rating                                              Everyone   \n",
              "Privacy_Policy                                                   NaN   \n",
              "Ad_Supported                                                    True   \n",
              "In_App_Purchases                                               False   \n",
              "Editors_Choice                                                 False   \n",
              "Scraped_Time                                         6/15/2021 20:19   \n",
              "\n",
              "                                             4  \n",
              "App_Name                               GROW.me  \n",
              "App_Id                    com.horodyski.grower  \n",
              "Category                                 Tools  \n",
              "Rating                                     0.0  \n",
              "Rating_Count                               0.0  \n",
              "Installs                                  100+  \n",
              "Minimum_Installs                         100.0  \n",
              "Maximum_Installs                           478  \n",
              "Free                                      True  \n",
              "Price                                      0.0  \n",
              "Currency                                   USD  \n",
              "Size                                      6.2M  \n",
              "Minimum_Android                     4.1 and up  \n",
              "Developer_Id             Rafal Milek-Horodyski  \n",
              "Developer_Website  http://www.horodyski.com.pl  \n",
              "Developer_Email      rmilekhorodyski@gmail.com  \n",
              "Released                             21-Feb-20  \n",
              "Last_Updated                         12-Nov-18  \n",
              "Content_Rating                        Everyone  \n",
              "Privacy_Policy     http://www.horodyski.com.pl  \n",
              "Ad_Supported                             False  \n",
              "In_App_Purchases                         False  \n",
              "Editors_Choice                           False  \n",
              "Scraped_Time                   6/15/2021 20:19  "
            ],
            "text/html": [
              "\n",
              "  <div id=\"df-48793966-2451-41fb-88b6-58878c72e3c2\">\n",
              "    <div class=\"colab-df-container\">\n",
              "      <div>\n",
              "<style scoped>\n",
              "    .dataframe tbody tr th:only-of-type {\n",
              "        vertical-align: middle;\n",
              "    }\n",
              "\n",
              "    .dataframe tbody tr th {\n",
              "        vertical-align: top;\n",
              "    }\n",
              "\n",
              "    .dataframe thead th {\n",
              "        text-align: right;\n",
              "    }\n",
              "</style>\n",
              "<table border=\"1\" class=\"dataframe\">\n",
              "  <thead>\n",
              "    <tr style=\"text-align: right;\">\n",
              "      <th></th>\n",
              "      <th>0</th>\n",
              "      <th>1</th>\n",
              "      <th>2</th>\n",
              "      <th>3</th>\n",
              "      <th>4</th>\n",
              "    </tr>\n",
              "  </thead>\n",
              "  <tbody>\n",
              "    <tr>\n",
              "      <th>App_Name</th>\n",
              "      <td>Gakondo</td>\n",
              "      <td>Ampere Battery Info</td>\n",
              "      <td>Vibook</td>\n",
              "      <td>Smart City Trichy Public Service Vehicles 17UC...</td>\n",
              "      <td>GROW.me</td>\n",
              "    </tr>\n",
              "    <tr>\n",
              "      <th>App_Id</th>\n",
              "      <td>com.ishakwe.gakondo</td>\n",
              "      <td>com.webserveis.batteryinfo</td>\n",
              "      <td>com.doantiepvien.crm</td>\n",
              "      <td>cst.stJoseph.ug17ucs548</td>\n",
              "      <td>com.horodyski.grower</td>\n",
              "    </tr>\n",
              "    <tr>\n",
              "      <th>Category</th>\n",
              "      <td>Adventure</td>\n",
              "      <td>Tools</td>\n",
              "      <td>Productivity</td>\n",
              "      <td>Communication</td>\n",
              "      <td>Tools</td>\n",
              "    </tr>\n",
              "    <tr>\n",
              "      <th>Rating</th>\n",
              "      <td>0.0</td>\n",
              "      <td>4.4</td>\n",
              "      <td>0.0</td>\n",
              "      <td>5.0</td>\n",
              "      <td>0.0</td>\n",
              "    </tr>\n",
              "    <tr>\n",
              "      <th>Rating_Count</th>\n",
              "      <td>0.0</td>\n",
              "      <td>64.0</td>\n",
              "      <td>0.0</td>\n",
              "      <td>5.0</td>\n",
              "      <td>0.0</td>\n",
              "    </tr>\n",
              "    <tr>\n",
              "      <th>Installs</th>\n",
              "      <td>10+</td>\n",
              "      <td>5,000+</td>\n",
              "      <td>50+</td>\n",
              "      <td>10+</td>\n",
              "      <td>100+</td>\n",
              "    </tr>\n",
              "    <tr>\n",
              "      <th>Minimum_Installs</th>\n",
              "      <td>10.0</td>\n",
              "      <td>5000.0</td>\n",
              "      <td>50.0</td>\n",
              "      <td>10.0</td>\n",
              "      <td>100.0</td>\n",
              "    </tr>\n",
              "    <tr>\n",
              "      <th>Maximum_Installs</th>\n",
              "      <td>15</td>\n",
              "      <td>7662</td>\n",
              "      <td>58</td>\n",
              "      <td>19</td>\n",
              "      <td>478</td>\n",
              "    </tr>\n",
              "    <tr>\n",
              "      <th>Free</th>\n",
              "      <td>True</td>\n",
              "      <td>True</td>\n",
              "      <td>True</td>\n",
              "      <td>True</td>\n",
              "      <td>True</td>\n",
              "    </tr>\n",
              "    <tr>\n",
              "      <th>Price</th>\n",
              "      <td>0.0</td>\n",
              "      <td>0.0</td>\n",
              "      <td>0.0</td>\n",
              "      <td>0.0</td>\n",
              "      <td>0.0</td>\n",
              "    </tr>\n",
              "    <tr>\n",
              "      <th>Currency</th>\n",
              "      <td>USD</td>\n",
              "      <td>USD</td>\n",
              "      <td>USD</td>\n",
              "      <td>USD</td>\n",
              "      <td>USD</td>\n",
              "    </tr>\n",
              "    <tr>\n",
              "      <th>Size</th>\n",
              "      <td>10M</td>\n",
              "      <td>2.9M</td>\n",
              "      <td>3.7M</td>\n",
              "      <td>1.8M</td>\n",
              "      <td>6.2M</td>\n",
              "    </tr>\n",
              "    <tr>\n",
              "      <th>Minimum_Android</th>\n",
              "      <td>7.1 and up</td>\n",
              "      <td>5.0 and up</td>\n",
              "      <td>4.0.3 and up</td>\n",
              "      <td>4.0.3 and up</td>\n",
              "      <td>4.1 and up</td>\n",
              "    </tr>\n",
              "    <tr>\n",
              "      <th>Developer_Id</th>\n",
              "      <td>Jean Confident Irénée NIYIZIBYOSE</td>\n",
              "      <td>Webserveis</td>\n",
              "      <td>Cabin Crew</td>\n",
              "      <td>Climate Smart Tech2</td>\n",
              "      <td>Rafal Milek-Horodyski</td>\n",
              "    </tr>\n",
              "    <tr>\n",
              "      <th>Developer_Website</th>\n",
              "      <td>https://beniyizibyose.tk/#/</td>\n",
              "      <td>https://webserveis.netlify.app/</td>\n",
              "      <td>NaN</td>\n",
              "      <td>http://www.climatesmarttech.com/</td>\n",
              "      <td>http://www.horodyski.com.pl</td>\n",
              "    </tr>\n",
              "    <tr>\n",
              "      <th>Developer_Email</th>\n",
              "      <td>jean21101999@gmail.com</td>\n",
              "      <td>webserveis@gmail.com</td>\n",
              "      <td>vnacrewit@gmail.com</td>\n",
              "      <td>climatesmarttech2@gmail.com</td>\n",
              "      <td>rmilekhorodyski@gmail.com</td>\n",
              "    </tr>\n",
              "    <tr>\n",
              "      <th>Released</th>\n",
              "      <td>26-Feb-20</td>\n",
              "      <td>21-May-20</td>\n",
              "      <td>9-Aug-19</td>\n",
              "      <td>10-Sep-18</td>\n",
              "      <td>21-Feb-20</td>\n",
              "    </tr>\n",
              "    <tr>\n",
              "      <th>Last_Updated</th>\n",
              "      <td>26-Feb-20</td>\n",
              "      <td>6-May-21</td>\n",
              "      <td>19-Aug-19</td>\n",
              "      <td>13-Oct-18</td>\n",
              "      <td>12-Nov-18</td>\n",
              "    </tr>\n",
              "    <tr>\n",
              "      <th>Content_Rating</th>\n",
              "      <td>Everyone</td>\n",
              "      <td>Everyone</td>\n",
              "      <td>Everyone</td>\n",
              "      <td>Everyone</td>\n",
              "      <td>Everyone</td>\n",
              "    </tr>\n",
              "    <tr>\n",
              "      <th>Privacy_Policy</th>\n",
              "      <td>https://beniyizibyose.tk/projects/</td>\n",
              "      <td>https://dev4phones.wordpress.com/licencia-de-uso/</td>\n",
              "      <td>https://www.vietnamairlines.com/vn/en/terms-an...</td>\n",
              "      <td>NaN</td>\n",
              "      <td>http://www.horodyski.com.pl</td>\n",
              "    </tr>\n",
              "    <tr>\n",
              "      <th>Ad_Supported</th>\n",
              "      <td>False</td>\n",
              "      <td>True</td>\n",
              "      <td>False</td>\n",
              "      <td>True</td>\n",
              "      <td>False</td>\n",
              "    </tr>\n",
              "    <tr>\n",
              "      <th>In_App_Purchases</th>\n",
              "      <td>False</td>\n",
              "      <td>False</td>\n",
              "      <td>False</td>\n",
              "      <td>False</td>\n",
              "      <td>False</td>\n",
              "    </tr>\n",
              "    <tr>\n",
              "      <th>Editors_Choice</th>\n",
              "      <td>False</td>\n",
              "      <td>False</td>\n",
              "      <td>False</td>\n",
              "      <td>False</td>\n",
              "      <td>False</td>\n",
              "    </tr>\n",
              "    <tr>\n",
              "      <th>Scraped_Time</th>\n",
              "      <td>6/15/2021 20:19</td>\n",
              "      <td>6/15/2021 20:19</td>\n",
              "      <td>6/15/2021 20:19</td>\n",
              "      <td>6/15/2021 20:19</td>\n",
              "      <td>6/15/2021 20:19</td>\n",
              "    </tr>\n",
              "  </tbody>\n",
              "</table>\n",
              "</div>\n",
              "      <button class=\"colab-df-convert\" onclick=\"convertToInteractive('df-48793966-2451-41fb-88b6-58878c72e3c2')\"\n",
              "              title=\"Convert this dataframe to an interactive table.\"\n",
              "              style=\"display:none;\">\n",
              "        \n",
              "  <svg xmlns=\"http://www.w3.org/2000/svg\" height=\"24px\"viewBox=\"0 0 24 24\"\n",
              "       width=\"24px\">\n",
              "    <path d=\"M0 0h24v24H0V0z\" fill=\"none\"/>\n",
              "    <path d=\"M18.56 5.44l.94 2.06.94-2.06 2.06-.94-2.06-.94-.94-2.06-.94 2.06-2.06.94zm-11 1L8.5 8.5l.94-2.06 2.06-.94-2.06-.94L8.5 2.5l-.94 2.06-2.06.94zm10 10l.94 2.06.94-2.06 2.06-.94-2.06-.94-.94-2.06-.94 2.06-2.06.94z\"/><path d=\"M17.41 7.96l-1.37-1.37c-.4-.4-.92-.59-1.43-.59-.52 0-1.04.2-1.43.59L10.3 9.45l-7.72 7.72c-.78.78-.78 2.05 0 2.83L4 21.41c.39.39.9.59 1.41.59.51 0 1.02-.2 1.41-.59l7.78-7.78 2.81-2.81c.8-.78.8-2.07 0-2.86zM5.41 20L4 18.59l7.72-7.72 1.47 1.35L5.41 20z\"/>\n",
              "  </svg>\n",
              "      </button>\n",
              "      \n",
              "  <style>\n",
              "    .colab-df-container {\n",
              "      display:flex;\n",
              "      flex-wrap:wrap;\n",
              "      gap: 12px;\n",
              "    }\n",
              "\n",
              "    .colab-df-convert {\n",
              "      background-color: #E8F0FE;\n",
              "      border: none;\n",
              "      border-radius: 50%;\n",
              "      cursor: pointer;\n",
              "      display: none;\n",
              "      fill: #1967D2;\n",
              "      height: 32px;\n",
              "      padding: 0 0 0 0;\n",
              "      width: 32px;\n",
              "    }\n",
              "\n",
              "    .colab-df-convert:hover {\n",
              "      background-color: #E2EBFA;\n",
              "      box-shadow: 0px 1px 2px rgba(60, 64, 67, 0.3), 0px 1px 3px 1px rgba(60, 64, 67, 0.15);\n",
              "      fill: #174EA6;\n",
              "    }\n",
              "\n",
              "    [theme=dark] .colab-df-convert {\n",
              "      background-color: #3B4455;\n",
              "      fill: #D2E3FC;\n",
              "    }\n",
              "\n",
              "    [theme=dark] .colab-df-convert:hover {\n",
              "      background-color: #434B5C;\n",
              "      box-shadow: 0px 1px 3px 1px rgba(0, 0, 0, 0.15);\n",
              "      filter: drop-shadow(0px 1px 2px rgba(0, 0, 0, 0.3));\n",
              "      fill: #FFFFFF;\n",
              "    }\n",
              "  </style>\n",
              "\n",
              "      <script>\n",
              "        const buttonEl =\n",
              "          document.querySelector('#df-48793966-2451-41fb-88b6-58878c72e3c2 button.colab-df-convert');\n",
              "        buttonEl.style.display =\n",
              "          google.colab.kernel.accessAllowed ? 'block' : 'none';\n",
              "\n",
              "        async function convertToInteractive(key) {\n",
              "          const element = document.querySelector('#df-48793966-2451-41fb-88b6-58878c72e3c2');\n",
              "          const dataTable =\n",
              "            await google.colab.kernel.invokeFunction('convertToInteractive',\n",
              "                                                     [key], {});\n",
              "          if (!dataTable) return;\n",
              "\n",
              "          const docLinkHtml = 'Like what you see? Visit the ' +\n",
              "            '<a target=\"_blank\" href=https://colab.research.google.com/notebooks/data_table.ipynb>data table notebook</a>'\n",
              "            + ' to learn more about interactive tables.';\n",
              "          element.innerHTML = '';\n",
              "          dataTable['output_type'] = 'display_data';\n",
              "          await google.colab.output.renderOutput(dataTable, element);\n",
              "          const docLink = document.createElement('div');\n",
              "          docLink.innerHTML = docLinkHtml;\n",
              "          element.appendChild(docLink);\n",
              "        }\n",
              "      </script>\n",
              "    </div>\n",
              "  </div>\n",
              "  "
            ]
          },
          "metadata": {},
          "execution_count": 5
        }
      ],
      "source": [
        "data.head().T"
      ]
    },
    {
      "cell_type": "code",
      "execution_count": 6,
      "metadata": {
        "colab": {
          "base_uri": "https://localhost:8080/"
        },
        "id": "_gDhgIOsvibH",
        "outputId": "06572e5c-539f-4007-83dd-97d18f68865c"
      },
      "outputs": [
        {
          "output_type": "execute_result",
          "data": {
            "text/plain": [
              "<bound method DataFrame.info of                                                  App_Name  \\\n",
              "0                                                 Gakondo   \n",
              "1                                     Ampere Battery Info   \n",
              "2                                                  Vibook   \n",
              "3       Smart City Trichy Public Service Vehicles 17UC...   \n",
              "4                                                 GROW.me   \n",
              "...                                                   ...   \n",
              "306600            Wordoku - Play sudoku with words online   \n",
              "306601           Working Days - Calculadora de dias úteis   \n",
              "306602                            Lakshmi Devi Wallpapers   \n",
              "306603                       בנק הפועלים - מסחר בשוק ההון   \n",
              "306604                                       Jaccountancy   \n",
              "\n",
              "                                                   App_Id         Category  \\\n",
              "0                                     com.ishakwe.gakondo        Adventure   \n",
              "1                              com.webserveis.batteryinfo            Tools   \n",
              "2                                    com.doantiepvien.crm     Productivity   \n",
              "3                                 cst.stJoseph.ug17ucs548    Communication   \n",
              "4                                    com.horodyski.grower            Tools   \n",
              "...                                                   ...              ...   \n",
              "306600                                 com.zivost.wordoku           Puzzle   \n",
              "306601                            br.com.isul.workingdays            Tools   \n",
              "306602  com.aimentertainments.goddesslaxmidevimatawall...  Personalization   \n",
              "306603                             com.ideomobile.hmarket          Finance   \n",
              "306604                                   com.jaccountancy         Business   \n",
              "\n",
              "        Rating  Rating_Count  Installs  Minimum_Installs  Maximum_Installs  \\\n",
              "0          0.0           0.0       10+              10.0                15   \n",
              "1          4.4          64.0    5,000+            5000.0              7662   \n",
              "2          0.0           0.0       50+              50.0                58   \n",
              "3          5.0           5.0       10+              10.0                19   \n",
              "4          0.0           0.0      100+             100.0               478   \n",
              "...        ...           ...       ...               ...               ...   \n",
              "306600     4.4          18.0    1,000+            1000.0              2669   \n",
              "306601     4.3         104.0    5,000+            5000.0              9832   \n",
              "306602     4.0          27.0   10,000+           10000.0             13107   \n",
              "306603     2.6        1747.0  100,000+          100000.0            256666   \n",
              "306604     0.0           0.0        5+               5.0                 5   \n",
              "\n",
              "        Free  Price  ...                 Developer_Website  \\\n",
              "0       True    0.0  ...       https://beniyizibyose.tk/#/   \n",
              "1       True    0.0  ...   https://webserveis.netlify.app/   \n",
              "2       True    0.0  ...                               NaN   \n",
              "3       True    0.0  ...  http://www.climatesmarttech.com/   \n",
              "4       True    0.0  ...       http://www.horodyski.com.pl   \n",
              "...      ...    ...  ...                               ...   \n",
              "306600  True    0.0  ...            https://www.zivost.com   \n",
              "306601  True    0.0  ...            http://www.isul.com.br   \n",
              "306602  True    0.0  ...                               NaN   \n",
              "306603  True    0.0  ...    https://www.bankhapoalim.co.il   \n",
              "306604  True    0.0  ...                               NaN   \n",
              "\n",
              "                       Developer_Email   Released Last_Updated Content_Rating  \\\n",
              "0               jean21101999@gmail.com  26-Feb-20    26-Feb-20       Everyone   \n",
              "1                 webserveis@gmail.com  21-May-20     6-May-21       Everyone   \n",
              "2                  vnacrewit@gmail.com   9-Aug-19    19-Aug-19       Everyone   \n",
              "3          climatesmarttech2@gmail.com  10-Sep-18    13-Oct-18       Everyone   \n",
              "4            rmilekhorodyski@gmail.com  21-Feb-20    12-Nov-18       Everyone   \n",
              "...                                ...        ...          ...            ...   \n",
              "306600                 info@zivost.com   9-May-19    28-Mar-20       Everyone   \n",
              "306601             contato@isul.com.br  19-Sep-13    25-Mar-19       Everyone   \n",
              "306602  aimentertainmentshyd@gmail.com  22-Jun-19    29-Oct-19       Everyone   \n",
              "306603      support@bankhapoalim.co.il  21-Sep-11    31-May-21       Everyone   \n",
              "306604              info@easyappsbusin        NaN          NaN            NaN   \n",
              "\n",
              "                                           Privacy_Policy Ad_Supported  \\\n",
              "0                      https://beniyizibyose.tk/projects/        False   \n",
              "1       https://dev4phones.wordpress.com/licencia-de-uso/         True   \n",
              "2       https://www.vietnamairlines.com/vn/en/terms-an...        False   \n",
              "3                                                     NaN         True   \n",
              "4                             http://www.horodyski.com.pl        False   \n",
              "...                                                   ...          ...   \n",
              "306600         https://zivost.com/privacy-policy-generic/         True   \n",
              "306601               https://isul.com.br/app/privacy.html         True   \n",
              "306602  http://aimentertainments.blogspot.com/p/privac...         True   \n",
              "306603  https://www.bankhapoalim.co.il/wps/portal/Poal...        False   \n",
              "306604                                                NaN          NaN   \n",
              "\n",
              "       In_App_Purchases Editors_Choice     Scraped_Time  \n",
              "0                 False          False  6/15/2021 20:19  \n",
              "1                 False          False  6/15/2021 20:19  \n",
              "2                 False          False  6/15/2021 20:19  \n",
              "3                 False          False  6/15/2021 20:19  \n",
              "4                 False          False  6/15/2021 20:19  \n",
              "...                 ...            ...              ...  \n",
              "306600            False          False   6/16/2021 1:35  \n",
              "306601            False          False   6/16/2021 1:35  \n",
              "306602            False          False   6/16/2021 1:35  \n",
              "306603            False          False   6/16/2021 1:35  \n",
              "306604              NaN            NaN              NaN  \n",
              "\n",
              "[306605 rows x 24 columns]>"
            ]
          },
          "metadata": {},
          "execution_count": 6
        }
      ],
      "source": [
        "# check summary \n",
        "data.info"
      ]
    },
    {
      "cell_type": "code",
      "source": [
        "data.describe()"
      ],
      "metadata": {
        "colab": {
          "base_uri": "https://localhost:8080/",
          "height": 300
        },
        "id": "eq3A5Ml2_VAl",
        "outputId": "b7085649-21cd-4fe7-9c5c-c5c5f8fa69b2"
      },
      "execution_count": 7,
      "outputs": [
        {
          "output_type": "execute_result",
          "data": {
            "text/plain": [
              "              Rating  Rating_Count  Minimum_Installs  Maximum_Installs  \\\n",
              "count  303572.000000  3.035720e+05      3.065860e+05      3.066050e+05   \n",
              "mean        2.202266  3.256250e+03      1.728327e+05      2.996438e+05   \n",
              "std         2.107000  3.008274e+05      1.104631e+07      1.646347e+07   \n",
              "min         0.000000  0.000000e+00      0.000000e+00      0.000000e+00   \n",
              "25%         0.000000  0.000000e+00      5.000000e+01      8.300000e+01   \n",
              "50%         2.900000  6.000000e+00      5.000000e+02      6.980000e+02   \n",
              "75%         4.300000  4.200000e+01      5.000000e+03      7.405000e+03   \n",
              "max         5.000000  1.202062e+08      5.000000e+09      6.156519e+09   \n",
              "\n",
              "               Price  \n",
              "count  306605.000000  \n",
              "mean        0.094501  \n",
              "std         2.074011  \n",
              "min         0.000000  \n",
              "25%         0.000000  \n",
              "50%         0.000000  \n",
              "75%         0.000000  \n",
              "max       399.990000  "
            ],
            "text/html": [
              "\n",
              "  <div id=\"df-789f214b-526a-4a7e-be53-701ed6788f9f\">\n",
              "    <div class=\"colab-df-container\">\n",
              "      <div>\n",
              "<style scoped>\n",
              "    .dataframe tbody tr th:only-of-type {\n",
              "        vertical-align: middle;\n",
              "    }\n",
              "\n",
              "    .dataframe tbody tr th {\n",
              "        vertical-align: top;\n",
              "    }\n",
              "\n",
              "    .dataframe thead th {\n",
              "        text-align: right;\n",
              "    }\n",
              "</style>\n",
              "<table border=\"1\" class=\"dataframe\">\n",
              "  <thead>\n",
              "    <tr style=\"text-align: right;\">\n",
              "      <th></th>\n",
              "      <th>Rating</th>\n",
              "      <th>Rating_Count</th>\n",
              "      <th>Minimum_Installs</th>\n",
              "      <th>Maximum_Installs</th>\n",
              "      <th>Price</th>\n",
              "    </tr>\n",
              "  </thead>\n",
              "  <tbody>\n",
              "    <tr>\n",
              "      <th>count</th>\n",
              "      <td>303572.000000</td>\n",
              "      <td>3.035720e+05</td>\n",
              "      <td>3.065860e+05</td>\n",
              "      <td>3.066050e+05</td>\n",
              "      <td>306605.000000</td>\n",
              "    </tr>\n",
              "    <tr>\n",
              "      <th>mean</th>\n",
              "      <td>2.202266</td>\n",
              "      <td>3.256250e+03</td>\n",
              "      <td>1.728327e+05</td>\n",
              "      <td>2.996438e+05</td>\n",
              "      <td>0.094501</td>\n",
              "    </tr>\n",
              "    <tr>\n",
              "      <th>std</th>\n",
              "      <td>2.107000</td>\n",
              "      <td>3.008274e+05</td>\n",
              "      <td>1.104631e+07</td>\n",
              "      <td>1.646347e+07</td>\n",
              "      <td>2.074011</td>\n",
              "    </tr>\n",
              "    <tr>\n",
              "      <th>min</th>\n",
              "      <td>0.000000</td>\n",
              "      <td>0.000000e+00</td>\n",
              "      <td>0.000000e+00</td>\n",
              "      <td>0.000000e+00</td>\n",
              "      <td>0.000000</td>\n",
              "    </tr>\n",
              "    <tr>\n",
              "      <th>25%</th>\n",
              "      <td>0.000000</td>\n",
              "      <td>0.000000e+00</td>\n",
              "      <td>5.000000e+01</td>\n",
              "      <td>8.300000e+01</td>\n",
              "      <td>0.000000</td>\n",
              "    </tr>\n",
              "    <tr>\n",
              "      <th>50%</th>\n",
              "      <td>2.900000</td>\n",
              "      <td>6.000000e+00</td>\n",
              "      <td>5.000000e+02</td>\n",
              "      <td>6.980000e+02</td>\n",
              "      <td>0.000000</td>\n",
              "    </tr>\n",
              "    <tr>\n",
              "      <th>75%</th>\n",
              "      <td>4.300000</td>\n",
              "      <td>4.200000e+01</td>\n",
              "      <td>5.000000e+03</td>\n",
              "      <td>7.405000e+03</td>\n",
              "      <td>0.000000</td>\n",
              "    </tr>\n",
              "    <tr>\n",
              "      <th>max</th>\n",
              "      <td>5.000000</td>\n",
              "      <td>1.202062e+08</td>\n",
              "      <td>5.000000e+09</td>\n",
              "      <td>6.156519e+09</td>\n",
              "      <td>399.990000</td>\n",
              "    </tr>\n",
              "  </tbody>\n",
              "</table>\n",
              "</div>\n",
              "      <button class=\"colab-df-convert\" onclick=\"convertToInteractive('df-789f214b-526a-4a7e-be53-701ed6788f9f')\"\n",
              "              title=\"Convert this dataframe to an interactive table.\"\n",
              "              style=\"display:none;\">\n",
              "        \n",
              "  <svg xmlns=\"http://www.w3.org/2000/svg\" height=\"24px\"viewBox=\"0 0 24 24\"\n",
              "       width=\"24px\">\n",
              "    <path d=\"M0 0h24v24H0V0z\" fill=\"none\"/>\n",
              "    <path d=\"M18.56 5.44l.94 2.06.94-2.06 2.06-.94-2.06-.94-.94-2.06-.94 2.06-2.06.94zm-11 1L8.5 8.5l.94-2.06 2.06-.94-2.06-.94L8.5 2.5l-.94 2.06-2.06.94zm10 10l.94 2.06.94-2.06 2.06-.94-2.06-.94-.94-2.06-.94 2.06-2.06.94z\"/><path d=\"M17.41 7.96l-1.37-1.37c-.4-.4-.92-.59-1.43-.59-.52 0-1.04.2-1.43.59L10.3 9.45l-7.72 7.72c-.78.78-.78 2.05 0 2.83L4 21.41c.39.39.9.59 1.41.59.51 0 1.02-.2 1.41-.59l7.78-7.78 2.81-2.81c.8-.78.8-2.07 0-2.86zM5.41 20L4 18.59l7.72-7.72 1.47 1.35L5.41 20z\"/>\n",
              "  </svg>\n",
              "      </button>\n",
              "      \n",
              "  <style>\n",
              "    .colab-df-container {\n",
              "      display:flex;\n",
              "      flex-wrap:wrap;\n",
              "      gap: 12px;\n",
              "    }\n",
              "\n",
              "    .colab-df-convert {\n",
              "      background-color: #E8F0FE;\n",
              "      border: none;\n",
              "      border-radius: 50%;\n",
              "      cursor: pointer;\n",
              "      display: none;\n",
              "      fill: #1967D2;\n",
              "      height: 32px;\n",
              "      padding: 0 0 0 0;\n",
              "      width: 32px;\n",
              "    }\n",
              "\n",
              "    .colab-df-convert:hover {\n",
              "      background-color: #E2EBFA;\n",
              "      box-shadow: 0px 1px 2px rgba(60, 64, 67, 0.3), 0px 1px 3px 1px rgba(60, 64, 67, 0.15);\n",
              "      fill: #174EA6;\n",
              "    }\n",
              "\n",
              "    [theme=dark] .colab-df-convert {\n",
              "      background-color: #3B4455;\n",
              "      fill: #D2E3FC;\n",
              "    }\n",
              "\n",
              "    [theme=dark] .colab-df-convert:hover {\n",
              "      background-color: #434B5C;\n",
              "      box-shadow: 0px 1px 3px 1px rgba(0, 0, 0, 0.15);\n",
              "      filter: drop-shadow(0px 1px 2px rgba(0, 0, 0, 0.3));\n",
              "      fill: #FFFFFF;\n",
              "    }\n",
              "  </style>\n",
              "\n",
              "      <script>\n",
              "        const buttonEl =\n",
              "          document.querySelector('#df-789f214b-526a-4a7e-be53-701ed6788f9f button.colab-df-convert');\n",
              "        buttonEl.style.display =\n",
              "          google.colab.kernel.accessAllowed ? 'block' : 'none';\n",
              "\n",
              "        async function convertToInteractive(key) {\n",
              "          const element = document.querySelector('#df-789f214b-526a-4a7e-be53-701ed6788f9f');\n",
              "          const dataTable =\n",
              "            await google.colab.kernel.invokeFunction('convertToInteractive',\n",
              "                                                     [key], {});\n",
              "          if (!dataTable) return;\n",
              "\n",
              "          const docLinkHtml = 'Like what you see? Visit the ' +\n",
              "            '<a target=\"_blank\" href=https://colab.research.google.com/notebooks/data_table.ipynb>data table notebook</a>'\n",
              "            + ' to learn more about interactive tables.';\n",
              "          element.innerHTML = '';\n",
              "          dataTable['output_type'] = 'display_data';\n",
              "          await google.colab.output.renderOutput(dataTable, element);\n",
              "          const docLink = document.createElement('div');\n",
              "          docLink.innerHTML = docLinkHtml;\n",
              "          element.appendChild(docLink);\n",
              "        }\n",
              "      </script>\n",
              "    </div>\n",
              "  </div>\n",
              "  "
            ]
          },
          "metadata": {},
          "execution_count": 7
        }
      ]
    },
    {
      "cell_type": "code",
      "execution_count": 8,
      "metadata": {
        "colab": {
          "base_uri": "https://localhost:8080/"
        },
        "id": "3BoAE93JL5qd",
        "outputId": "0051206d-719d-4e3a-e491-cb7b9e4637e4"
      },
      "outputs": [
        {
          "output_type": "execute_result",
          "data": {
            "text/plain": [
              "(         Rating  Rating_Count  Minimum_Installs  Maximum_Installs     Price\n",
              " count  303572.0      303572.0      3.065860e+05      3.066050e+05  306605.0\n",
              " mean        2.0        3256.0      1.728330e+05      2.996440e+05       0.0\n",
              " std         2.0      300827.0      1.104631e+07      1.646347e+07       2.0\n",
              " min         0.0           0.0      0.000000e+00      0.000000e+00       0.0\n",
              " 25%         0.0           0.0      5.000000e+01      8.300000e+01       0.0\n",
              " 50%         3.0           6.0      5.000000e+02      6.980000e+02       0.0\n",
              " 75%         4.0          42.0      5.000000e+03      7.405000e+03       0.0\n",
              " max         5.0   120206190.0      5.000000e+09      6.156519e+09     400.0,\n",
              " 0)"
            ]
          },
          "metadata": {},
          "execution_count": 8
        }
      ],
      "source": [
        "#To show desired no of values after decimal(It rounds a number to a specified number of digits)\n",
        "\n",
        "\n",
        "round(data.describe()),0"
      ]
    },
    {
      "cell_type": "code",
      "execution_count": 9,
      "metadata": {
        "id": "E3ozCo5zwAua",
        "colab": {
          "base_uri": "https://localhost:8080/",
          "height": 206
        },
        "outputId": "2f7cef7f-035f-4b35-8ba7-e080665f7ecc"
      },
      "outputs": [
        {
          "output_type": "execute_result",
          "data": {
            "text/plain": [
              "                     count      mean         std  min   25%    50%     75%  \\\n",
              "Rating            303572.0       2.0         2.0  0.0   0.0    3.0     4.0   \n",
              "Rating_Count      303572.0    3256.0    300827.0  0.0   0.0    6.0    42.0   \n",
              "Minimum_Installs  306586.0  172833.0  11046307.0  0.0  50.0  500.0  5000.0   \n",
              "Maximum_Installs  306605.0  299644.0  16463472.0  0.0  83.0  698.0  7405.0   \n",
              "Price             306605.0       0.0         2.0  0.0   0.0    0.0     0.0   \n",
              "\n",
              "                           max  \n",
              "Rating            5.000000e+00  \n",
              "Rating_Count      1.202062e+08  \n",
              "Minimum_Installs  5.000000e+09  \n",
              "Maximum_Installs  6.156519e+09  \n",
              "Price             4.000000e+02  "
            ],
            "text/html": [
              "\n",
              "  <div id=\"df-a134470e-2c94-473d-b877-eb0126e8bec9\">\n",
              "    <div class=\"colab-df-container\">\n",
              "      <div>\n",
              "<style scoped>\n",
              "    .dataframe tbody tr th:only-of-type {\n",
              "        vertical-align: middle;\n",
              "    }\n",
              "\n",
              "    .dataframe tbody tr th {\n",
              "        vertical-align: top;\n",
              "    }\n",
              "\n",
              "    .dataframe thead th {\n",
              "        text-align: right;\n",
              "    }\n",
              "</style>\n",
              "<table border=\"1\" class=\"dataframe\">\n",
              "  <thead>\n",
              "    <tr style=\"text-align: right;\">\n",
              "      <th></th>\n",
              "      <th>count</th>\n",
              "      <th>mean</th>\n",
              "      <th>std</th>\n",
              "      <th>min</th>\n",
              "      <th>25%</th>\n",
              "      <th>50%</th>\n",
              "      <th>75%</th>\n",
              "      <th>max</th>\n",
              "    </tr>\n",
              "  </thead>\n",
              "  <tbody>\n",
              "    <tr>\n",
              "      <th>Rating</th>\n",
              "      <td>303572.0</td>\n",
              "      <td>2.0</td>\n",
              "      <td>2.0</td>\n",
              "      <td>0.0</td>\n",
              "      <td>0.0</td>\n",
              "      <td>3.0</td>\n",
              "      <td>4.0</td>\n",
              "      <td>5.000000e+00</td>\n",
              "    </tr>\n",
              "    <tr>\n",
              "      <th>Rating_Count</th>\n",
              "      <td>303572.0</td>\n",
              "      <td>3256.0</td>\n",
              "      <td>300827.0</td>\n",
              "      <td>0.0</td>\n",
              "      <td>0.0</td>\n",
              "      <td>6.0</td>\n",
              "      <td>42.0</td>\n",
              "      <td>1.202062e+08</td>\n",
              "    </tr>\n",
              "    <tr>\n",
              "      <th>Minimum_Installs</th>\n",
              "      <td>306586.0</td>\n",
              "      <td>172833.0</td>\n",
              "      <td>11046307.0</td>\n",
              "      <td>0.0</td>\n",
              "      <td>50.0</td>\n",
              "      <td>500.0</td>\n",
              "      <td>5000.0</td>\n",
              "      <td>5.000000e+09</td>\n",
              "    </tr>\n",
              "    <tr>\n",
              "      <th>Maximum_Installs</th>\n",
              "      <td>306605.0</td>\n",
              "      <td>299644.0</td>\n",
              "      <td>16463472.0</td>\n",
              "      <td>0.0</td>\n",
              "      <td>83.0</td>\n",
              "      <td>698.0</td>\n",
              "      <td>7405.0</td>\n",
              "      <td>6.156519e+09</td>\n",
              "    </tr>\n",
              "    <tr>\n",
              "      <th>Price</th>\n",
              "      <td>306605.0</td>\n",
              "      <td>0.0</td>\n",
              "      <td>2.0</td>\n",
              "      <td>0.0</td>\n",
              "      <td>0.0</td>\n",
              "      <td>0.0</td>\n",
              "      <td>0.0</td>\n",
              "      <td>4.000000e+02</td>\n",
              "    </tr>\n",
              "  </tbody>\n",
              "</table>\n",
              "</div>\n",
              "      <button class=\"colab-df-convert\" onclick=\"convertToInteractive('df-a134470e-2c94-473d-b877-eb0126e8bec9')\"\n",
              "              title=\"Convert this dataframe to an interactive table.\"\n",
              "              style=\"display:none;\">\n",
              "        \n",
              "  <svg xmlns=\"http://www.w3.org/2000/svg\" height=\"24px\"viewBox=\"0 0 24 24\"\n",
              "       width=\"24px\">\n",
              "    <path d=\"M0 0h24v24H0V0z\" fill=\"none\"/>\n",
              "    <path d=\"M18.56 5.44l.94 2.06.94-2.06 2.06-.94-2.06-.94-.94-2.06-.94 2.06-2.06.94zm-11 1L8.5 8.5l.94-2.06 2.06-.94-2.06-.94L8.5 2.5l-.94 2.06-2.06.94zm10 10l.94 2.06.94-2.06 2.06-.94-2.06-.94-.94-2.06-.94 2.06-2.06.94z\"/><path d=\"M17.41 7.96l-1.37-1.37c-.4-.4-.92-.59-1.43-.59-.52 0-1.04.2-1.43.59L10.3 9.45l-7.72 7.72c-.78.78-.78 2.05 0 2.83L4 21.41c.39.39.9.59 1.41.59.51 0 1.02-.2 1.41-.59l7.78-7.78 2.81-2.81c.8-.78.8-2.07 0-2.86zM5.41 20L4 18.59l7.72-7.72 1.47 1.35L5.41 20z\"/>\n",
              "  </svg>\n",
              "      </button>\n",
              "      \n",
              "  <style>\n",
              "    .colab-df-container {\n",
              "      display:flex;\n",
              "      flex-wrap:wrap;\n",
              "      gap: 12px;\n",
              "    }\n",
              "\n",
              "    .colab-df-convert {\n",
              "      background-color: #E8F0FE;\n",
              "      border: none;\n",
              "      border-radius: 50%;\n",
              "      cursor: pointer;\n",
              "      display: none;\n",
              "      fill: #1967D2;\n",
              "      height: 32px;\n",
              "      padding: 0 0 0 0;\n",
              "      width: 32px;\n",
              "    }\n",
              "\n",
              "    .colab-df-convert:hover {\n",
              "      background-color: #E2EBFA;\n",
              "      box-shadow: 0px 1px 2px rgba(60, 64, 67, 0.3), 0px 1px 3px 1px rgba(60, 64, 67, 0.15);\n",
              "      fill: #174EA6;\n",
              "    }\n",
              "\n",
              "    [theme=dark] .colab-df-convert {\n",
              "      background-color: #3B4455;\n",
              "      fill: #D2E3FC;\n",
              "    }\n",
              "\n",
              "    [theme=dark] .colab-df-convert:hover {\n",
              "      background-color: #434B5C;\n",
              "      box-shadow: 0px 1px 3px 1px rgba(0, 0, 0, 0.15);\n",
              "      filter: drop-shadow(0px 1px 2px rgba(0, 0, 0, 0.3));\n",
              "      fill: #FFFFFF;\n",
              "    }\n",
              "  </style>\n",
              "\n",
              "      <script>\n",
              "        const buttonEl =\n",
              "          document.querySelector('#df-a134470e-2c94-473d-b877-eb0126e8bec9 button.colab-df-convert');\n",
              "        buttonEl.style.display =\n",
              "          google.colab.kernel.accessAllowed ? 'block' : 'none';\n",
              "\n",
              "        async function convertToInteractive(key) {\n",
              "          const element = document.querySelector('#df-a134470e-2c94-473d-b877-eb0126e8bec9');\n",
              "          const dataTable =\n",
              "            await google.colab.kernel.invokeFunction('convertToInteractive',\n",
              "                                                     [key], {});\n",
              "          if (!dataTable) return;\n",
              "\n",
              "          const docLinkHtml = 'Like what you see? Visit the ' +\n",
              "            '<a target=\"_blank\" href=https://colab.research.google.com/notebooks/data_table.ipynb>data table notebook</a>'\n",
              "            + ' to learn more about interactive tables.';\n",
              "          element.innerHTML = '';\n",
              "          dataTable['output_type'] = 'display_data';\n",
              "          await google.colab.output.renderOutput(dataTable, element);\n",
              "          const docLink = document.createElement('div');\n",
              "          docLink.innerHTML = docLinkHtml;\n",
              "          element.appendChild(docLink);\n",
              "        }\n",
              "      </script>\n",
              "    </div>\n",
              "  </div>\n",
              "  "
            ]
          },
          "metadata": {},
          "execution_count": 9
        }
      ],
      "source": [
        "NumericAttribute = round(data.describe().T,0)\n",
        "NumericAttribute\n",
        "#NumericAttribute.to_excel(\"NumericAttribute.xls\")\n"
      ]
    },
    {
      "cell_type": "code",
      "execution_count": 10,
      "metadata": {
        "colab": {
          "base_uri": "https://localhost:8080/"
        },
        "id": "JP-NS9pFx0Ir",
        "outputId": "87a93799-b92b-4760-897e-40c28188c177"
      },
      "outputs": [
        {
          "output_type": "execute_result",
          "data": {
            "text/plain": [
              "<bound method NDFrame.to_excel of                                                     0  \\\n",
              "App_Name                                      Gakondo   \n",
              "App_Id                            com.ishakwe.gakondo   \n",
              "Category                                    Adventure   \n",
              "Rating                                            0.0   \n",
              "Rating_Count                                      0.0   \n",
              "Installs                                          10+   \n",
              "Minimum_Installs                                 10.0   \n",
              "Maximum_Installs                                   15   \n",
              "Free                                             True   \n",
              "Price                                             0.0   \n",
              "Currency                                          USD   \n",
              "Size                                              10M   \n",
              "Minimum_Android                            7.1 and up   \n",
              "Developer_Id        Jean Confident Irénée NIYIZIBYOSE   \n",
              "Developer_Website         https://beniyizibyose.tk/#/   \n",
              "Developer_Email                jean21101999@gmail.com   \n",
              "Released                                    26-Feb-20   \n",
              "Last_Updated                                26-Feb-20   \n",
              "Content_Rating                               Everyone   \n",
              "Privacy_Policy     https://beniyizibyose.tk/projects/   \n",
              "Ad_Supported                                    False   \n",
              "In_App_Purchases                                False   \n",
              "Editors_Choice                                  False   \n",
              "Scraped_Time                          6/15/2021 20:19   \n",
              "\n",
              "                                                                   1  \\\n",
              "App_Name                                         Ampere Battery Info   \n",
              "App_Id                                    com.webserveis.batteryinfo   \n",
              "Category                                                       Tools   \n",
              "Rating                                                           4.4   \n",
              "Rating_Count                                                    64.0   \n",
              "Installs                                                      5,000+   \n",
              "Minimum_Installs                                              5000.0   \n",
              "Maximum_Installs                                                7662   \n",
              "Free                                                            True   \n",
              "Price                                                            0.0   \n",
              "Currency                                                         USD   \n",
              "Size                                                            2.9M   \n",
              "Minimum_Android                                           5.0 and up   \n",
              "Developer_Id                                              Webserveis   \n",
              "Developer_Website                    https://webserveis.netlify.app/   \n",
              "Developer_Email                                 webserveis@gmail.com   \n",
              "Released                                                   21-May-20   \n",
              "Last_Updated                                                6-May-21   \n",
              "Content_Rating                                              Everyone   \n",
              "Privacy_Policy     https://dev4phones.wordpress.com/licencia-de-uso/   \n",
              "Ad_Supported                                                    True   \n",
              "In_App_Purchases                                               False   \n",
              "Editors_Choice                                                 False   \n",
              "Scraped_Time                                         6/15/2021 20:19   \n",
              "\n",
              "                                                                   2  \\\n",
              "App_Name                                                      Vibook   \n",
              "App_Id                                          com.doantiepvien.crm   \n",
              "Category                                                Productivity   \n",
              "Rating                                                           0.0   \n",
              "Rating_Count                                                     0.0   \n",
              "Installs                                                         50+   \n",
              "Minimum_Installs                                                50.0   \n",
              "Maximum_Installs                                                  58   \n",
              "Free                                                            True   \n",
              "Price                                                            0.0   \n",
              "Currency                                                         USD   \n",
              "Size                                                            3.7M   \n",
              "Minimum_Android                                         4.0.3 and up   \n",
              "Developer_Id                                              Cabin Crew   \n",
              "Developer_Website                                                NaN   \n",
              "Developer_Email                                  vnacrewit@gmail.com   \n",
              "Released                                                    9-Aug-19   \n",
              "Last_Updated                                               19-Aug-19   \n",
              "Content_Rating                                              Everyone   \n",
              "Privacy_Policy     https://www.vietnamairlines.com/vn/en/terms-an...   \n",
              "Ad_Supported                                                   False   \n",
              "In_App_Purchases                                               False   \n",
              "Editors_Choice                                                 False   \n",
              "Scraped_Time                                         6/15/2021 20:19   \n",
              "\n",
              "                                                                   3  \\\n",
              "App_Name           Smart City Trichy Public Service Vehicles 17UC...   \n",
              "App_Id                                       cst.stJoseph.ug17ucs548   \n",
              "Category                                               Communication   \n",
              "Rating                                                           5.0   \n",
              "Rating_Count                                                     5.0   \n",
              "Installs                                                         10+   \n",
              "Minimum_Installs                                                10.0   \n",
              "Maximum_Installs                                                  19   \n",
              "Free                                                            True   \n",
              "Price                                                            0.0   \n",
              "Currency                                                         USD   \n",
              "Size                                                            1.8M   \n",
              "Minimum_Android                                         4.0.3 and up   \n",
              "Developer_Id                                     Climate Smart Tech2   \n",
              "Developer_Website                   http://www.climatesmarttech.com/   \n",
              "Developer_Email                          climatesmarttech2@gmail.com   \n",
              "Released                                                   10-Sep-18   \n",
              "Last_Updated                                               13-Oct-18   \n",
              "Content_Rating                                              Everyone   \n",
              "Privacy_Policy                                                   NaN   \n",
              "Ad_Supported                                                    True   \n",
              "In_App_Purchases                                               False   \n",
              "Editors_Choice                                                 False   \n",
              "Scraped_Time                                         6/15/2021 20:19   \n",
              "\n",
              "                                             4  \n",
              "App_Name                               GROW.me  \n",
              "App_Id                    com.horodyski.grower  \n",
              "Category                                 Tools  \n",
              "Rating                                     0.0  \n",
              "Rating_Count                               0.0  \n",
              "Installs                                  100+  \n",
              "Minimum_Installs                         100.0  \n",
              "Maximum_Installs                           478  \n",
              "Free                                      True  \n",
              "Price                                      0.0  \n",
              "Currency                                   USD  \n",
              "Size                                      6.2M  \n",
              "Minimum_Android                     4.1 and up  \n",
              "Developer_Id             Rafal Milek-Horodyski  \n",
              "Developer_Website  http://www.horodyski.com.pl  \n",
              "Developer_Email      rmilekhorodyski@gmail.com  \n",
              "Released                             21-Feb-20  \n",
              "Last_Updated                         12-Nov-18  \n",
              "Content_Rating                        Everyone  \n",
              "Privacy_Policy     http://www.horodyski.com.pl  \n",
              "Ad_Supported                             False  \n",
              "In_App_Purchases                         False  \n",
              "Editors_Choice                           False  \n",
              "Scraped_Time                   6/15/2021 20:19  >"
            ]
          },
          "metadata": {},
          "execution_count": 10
        }
      ],
      "source": [
        "#printing the transpose values for first 5 records \n",
        "data.head().T.to_excel"
      ]
    },
    {
      "cell_type": "code",
      "execution_count": 11,
      "metadata": {
        "colab": {
          "base_uri": "https://localhost:8080/"
        },
        "id": "Wu6PFPfLyW05",
        "outputId": "e4522518-3008-4109-c830-49ce9a225732"
      },
      "outputs": [
        {
          "output_type": "execute_result",
          "data": {
            "text/plain": [
              "Index(['App_Name', 'App_Id', 'Category', 'Rating', 'Rating_Count', 'Installs',\n",
              "       'Minimum_Installs', 'Maximum_Installs', 'Free', 'Price', 'Currency',\n",
              "       'Size', 'Minimum_Android', 'Developer_Id', 'Developer_Website',\n",
              "       'Developer_Email', 'Released', 'Last_Updated', 'Content_Rating',\n",
              "       'Privacy_Policy', 'Ad_Supported', 'In_App_Purchases', 'Editors_Choice',\n",
              "       'Scraped_Time'],\n",
              "      dtype='object')"
            ]
          },
          "metadata": {},
          "execution_count": 11
        }
      ],
      "source": [
        "#check columns name\n",
        "data.columns"
      ]
    },
    {
      "cell_type": "code",
      "execution_count": 12,
      "metadata": {
        "id": "MGOKb09Ly3U_"
      },
      "outputs": [],
      "source": [
        "#rename columns name renaming scraped time columns to scrap time period\n",
        "#inplace=True means it performs operation on data and nothing is returned.\n",
        "#inplace= False means it performs operation on data  and returns a new copy of data.\n",
        "data.rename(columns = {'Scraped_Time':'scrap_time_period'}, inplace=True)"
      ]
    },
    {
      "cell_type": "code",
      "execution_count": 13,
      "metadata": {
        "colab": {
          "base_uri": "https://localhost:8080/"
        },
        "id": "BF-zChR0zvbo",
        "outputId": "c3e60c3f-31db-4ede-8a4e-93919c686f5d"
      },
      "outputs": [
        {
          "output_type": "stream",
          "name": "stdout",
          "text": [
            "<class 'pandas.core.frame.DataFrame'>\n",
            "RangeIndex: 306605 entries, 0 to 306604\n",
            "Data columns (total 24 columns):\n",
            " #   Column             Non-Null Count   Dtype  \n",
            "---  ------             --------------   -----  \n",
            " 0   App_Name           306604 non-null  object \n",
            " 1   App_Id             306605 non-null  object \n",
            " 2   Category           306605 non-null  object \n",
            " 3   Rating             303572 non-null  float64\n",
            " 4   Rating_Count       303572 non-null  float64\n",
            " 5   Installs           306586 non-null  object \n",
            " 6   Minimum_Installs   306586 non-null  float64\n",
            " 7   Maximum_Installs   306605 non-null  int64  \n",
            " 8   Free               306605 non-null  bool   \n",
            " 9   Price              306605 non-null  float64\n",
            " 10  Currency           306570 non-null  object \n",
            " 11  Size               306584 non-null  object \n",
            " 12  Minimum_Android    305713 non-null  object \n",
            " 13  Developer_Id       306604 non-null  object \n",
            " 14  Developer_Website  205913 non-null  object \n",
            " 15  Developer_Email    306602 non-null  object \n",
            " 16  Released           297256 non-null  object \n",
            " 17  Last_Updated       306604 non-null  object \n",
            " 18  Content_Rating     306604 non-null  object \n",
            " 19  Privacy_Policy     251005 non-null  object \n",
            " 20  Ad_Supported       306604 non-null  object \n",
            " 21  In_App_Purchases   306604 non-null  object \n",
            " 22  Editors_Choice     306604 non-null  object \n",
            " 23  scrap_time_period  306604 non-null  object \n",
            "dtypes: bool(1), float64(4), int64(1), object(18)\n",
            "memory usage: 54.1+ MB\n"
          ]
        }
      ],
      "source": [
        "\n",
        "#To check changes\n",
        "\n",
        "data.info()"
      ]
    },
    {
      "cell_type": "code",
      "execution_count": 14,
      "metadata": {
        "colab": {
          "base_uri": "https://localhost:8080/"
        },
        "id": "kMqWULac0LBt",
        "outputId": "e972b0bb-86e4-40ac-e2d7-9bd4b94cad8f"
      },
      "outputs": [
        {
          "output_type": "execute_result",
          "data": {
            "text/plain": [
              "Developer_Website    100692\n",
              "Privacy_Policy        55600\n",
              "Released               9349\n",
              "Rating                 3033\n",
              "Rating_Count           3033\n",
              "Minimum_Android         892\n",
              "Currency                 35\n",
              "Size                     21\n",
              "Installs                 19\n",
              "Minimum_Installs         19\n",
              "Developer_Email           3\n",
              "Editors_Choice            1\n",
              "In_App_Purchases          1\n",
              "Ad_Supported              1\n",
              "Content_Rating            1\n",
              "Last_Updated              1\n",
              "App_Name                  1\n",
              "Developer_Id              1\n",
              "scrap_time_period         1\n",
              "App_Id                    0\n",
              "Price                     0\n",
              "Free                      0\n",
              "Maximum_Installs          0\n",
              "Category                  0\n",
              "dtype: int64"
            ]
          },
          "metadata": {},
          "execution_count": 14
        }
      ],
      "source": [
        "#counting number of NA values for all attributes\n",
        "missing = data.isnull().sum().sort_values(ascending=False)\n",
        "missing"
      ]
    },
    {
      "cell_type": "code",
      "source": [
        "missing.to_excel(\"NA VALUES.xls\")"
      ],
      "metadata": {
        "id": "18fzCVth-VMN"
      },
      "execution_count": 15,
      "outputs": []
    },
    {
      "cell_type": "code",
      "execution_count": 16,
      "metadata": {
        "colab": {
          "base_uri": "https://localhost:8080/"
        },
        "id": "fgzBRTVr0c9p",
        "outputId": "edfb56fc-0301-40c6-b577-27cbe7f2c0e8"
      },
      "outputs": [
        {
          "output_type": "execute_result",
          "data": {
            "text/plain": [
              "0"
            ]
          },
          "metadata": {},
          "execution_count": 16
        }
      ],
      "source": [
        "#counting total number of dupliacte records in the entire dataset\n",
        "data.duplicated().sum()"
      ]
    },
    {
      "cell_type": "code",
      "source": [
        "# Drop attributes that having sufficient no. of Null value\n",
        "data = data.drop(['Developer_Website', 'Privacy_Policy', 'Released', 'Rating', 'Rating_Count', 'Minimum_Android'], axis = 1)"
      ],
      "metadata": {
        "id": "vJTO6bx_Affb"
      },
      "execution_count": 17,
      "outputs": []
    },
    {
      "cell_type": "code",
      "source": [
        "#To check changes\n",
        "data.columns"
      ],
      "metadata": {
        "colab": {
          "base_uri": "https://localhost:8080/"
        },
        "id": "XkiieJeaA_W1",
        "outputId": "5926afbf-8593-40e2-b426-5f4831c49e65"
      },
      "execution_count": 18,
      "outputs": [
        {
          "output_type": "execute_result",
          "data": {
            "text/plain": [
              "Index(['App_Name', 'App_Id', 'Category', 'Installs', 'Minimum_Installs',\n",
              "       'Maximum_Installs', 'Free', 'Price', 'Currency', 'Size', 'Developer_Id',\n",
              "       'Developer_Email', 'Last_Updated', 'Content_Rating', 'Ad_Supported',\n",
              "       'In_App_Purchases', 'Editors_Choice', 'scrap_time_period'],\n",
              "      dtype='object')"
            ]
          },
          "metadata": {},
          "execution_count": 18
        }
      ]
    },
    {
      "cell_type": "code",
      "source": [
        "# To drop NA values\n",
        "data = data.dropna(how = \"any\", inplace = False )"
      ],
      "metadata": {
        "id": "6NLsepTwBZFS"
      },
      "execution_count": 19,
      "outputs": []
    },
    {
      "cell_type": "code",
      "source": [
        "data.isna().sum()"
      ],
      "metadata": {
        "colab": {
          "base_uri": "https://localhost:8080/"
        },
        "id": "GsM96xEABcAv",
        "outputId": "d3154cf6-3ea3-4dcf-abc2-bbbe55902dcd"
      },
      "execution_count": 20,
      "outputs": [
        {
          "output_type": "execute_result",
          "data": {
            "text/plain": [
              "App_Name             0\n",
              "App_Id               0\n",
              "Category             0\n",
              "Installs             0\n",
              "Minimum_Installs     0\n",
              "Maximum_Installs     0\n",
              "Free                 0\n",
              "Price                0\n",
              "Currency             0\n",
              "Size                 0\n",
              "Developer_Id         0\n",
              "Developer_Email      0\n",
              "Last_Updated         0\n",
              "Content_Rating       0\n",
              "Ad_Supported         0\n",
              "In_App_Purchases     0\n",
              "Editors_Choice       0\n",
              "scrap_time_period    0\n",
              "dtype: int64"
            ]
          },
          "metadata": {},
          "execution_count": 20
        }
      ]
    },
    {
      "cell_type": "code",
      "source": [
        "data.dtypes"
      ],
      "metadata": {
        "colab": {
          "base_uri": "https://localhost:8080/"
        },
        "id": "ccDdQ0tw55qB",
        "outputId": "455a1c15-2659-4842-8c5b-04285769fb4f"
      },
      "execution_count": 21,
      "outputs": [
        {
          "output_type": "execute_result",
          "data": {
            "text/plain": [
              "App_Name              object\n",
              "App_Id                object\n",
              "Category              object\n",
              "Installs              object\n",
              "Minimum_Installs     float64\n",
              "Maximum_Installs       int64\n",
              "Free                    bool\n",
              "Price                float64\n",
              "Currency              object\n",
              "Size                  object\n",
              "Developer_Id          object\n",
              "Developer_Email       object\n",
              "Last_Updated          object\n",
              "Content_Rating        object\n",
              "Ad_Supported          object\n",
              "In_App_Purchases      object\n",
              "Editors_Choice        object\n",
              "scrap_time_period     object\n",
              "dtype: object"
            ]
          },
          "metadata": {},
          "execution_count": 21
        }
      ]
    },
    {
      "cell_type": "code",
      "source": [
        "#Float to numeric\n",
        "\n",
        "data[\"Minimum_Installs\"] = pd.to_numeric(data['Minimum_Installs'])\n",
        "data[\"Price\"] = pd.to_numeric(data['Price'])\n",
        "data[\"Ad_Supported\"] = pd.to_numeric(data['Ad_Supported'])\n",
        "data[\"In_App_Purchases\"] = pd.to_numeric(data['In_App_Purchases'])\n",
        "data[\"Editors_Choice\"] = pd.to_numeric(data['Editors_Choice'])"
      ],
      "metadata": {
        "id": "MtlS3fu--T0y"
      },
      "execution_count": 22,
      "outputs": []
    },
    {
      "cell_type": "code",
      "source": [
        "#NUmeric t0 int\n",
        "\n",
        "data[\"Minimum_Installs\"] = data[\"Minimum_Installs\"].astype(\"int\")\n",
        "data[\"Price\"] = data[\"Price\"].astype(\"int\")\n",
        "data[\"Ad_Supported\"] = data[\"Ad_Supported\"].astype(\"int\")\n",
        "data[\"In_App_Purchases\"] = data[\"In_App_Purchases\"].astype(\"int\")\n",
        "data[\"Editors_Choice\"] = data[\"Editors_Choice\"].astype(\"int\")\n"
      ],
      "metadata": {
        "id": "wWdFKveZ_S1n"
      },
      "execution_count": 23,
      "outputs": []
    },
    {
      "cell_type": "code",
      "execution_count": 24,
      "metadata": {
        "id": "bjkjIgU74Bt_"
      },
      "outputs": [],
      "source": [
        "#converting few column datatype to catrgory\n",
        "data[\"Free\"]=data[\"Free\"].astype(\"category\")\n",
        "data[\"Currency\"]=data[\"Currency\"].astype(\"category\")\n",
        "data[\"App_Name\"]=data[\"App_Name\"].astype(\"category\")\n",
        "data[\"Category\"]=data[\"Category\"].astype(\"category\")\n",
        "data[\"Installs\"]=data[\"Installs\"].astype(\"category\")\n",
        "data[\"Size\"]=data[\"Size\"].astype(\"category\")\n",
        "data[\"Last_Updated\"]=data[\"Last_Updated\"].astype(\"category\")\n",
        "data[\"Content_Rating\"]=data[\"Content_Rating\"].astype(\"category\")\n",
        "data[\"scrap_time_period\"]=data[\"scrap_time_period\"].astype(\"category\")\n",
        "data[\"App_Id\"]=data[\"App_Id\"].astype(\"category\")\n",
        "data[\"Developer_Id\"]=data[\"Developer_Id\"].astype(\"category\")\n",
        "data[\"Developer_Email\"]=data[\"Developer_Email\"].astype(\"category\")\n",
        "\n"
      ]
    },
    {
      "cell_type": "code",
      "source": [
        "data.dtypes"
      ],
      "metadata": {
        "colab": {
          "base_uri": "https://localhost:8080/"
        },
        "id": "cfO0ssZn9T79",
        "outputId": "cb7a7274-85b5-409b-e149-46247f7ab8ea"
      },
      "execution_count": 25,
      "outputs": [
        {
          "output_type": "execute_result",
          "data": {
            "text/plain": [
              "App_Name             category\n",
              "App_Id               category\n",
              "Category             category\n",
              "Installs             category\n",
              "Minimum_Installs        int64\n",
              "Maximum_Installs        int64\n",
              "Free                 category\n",
              "Price                   int64\n",
              "Currency             category\n",
              "Size                 category\n",
              "Developer_Id         category\n",
              "Developer_Email      category\n",
              "Last_Updated         category\n",
              "Content_Rating       category\n",
              "Ad_Supported            int64\n",
              "In_App_Purchases        int64\n",
              "Editors_Choice          int64\n",
              "scrap_time_period    category\n",
              "dtype: object"
            ]
          },
          "metadata": {},
          "execution_count": 25
        }
      ]
    },
    {
      "cell_type": "code",
      "source": [
        "#Boxplots\n",
        "\n",
        "\n",
        "fig, axes = plt.subplots(8, 1, figsize=(10, 30))\n",
        "\n",
        "\n",
        "\n",
        "\n",
        "\n",
        "#Minimum_installs\n",
        "\n",
        "sns.boxplot('Minimum_Installs', data = data, ax = axes[2])\n",
        "axes[2].set_title(\"Minimum_installs\")\n",
        "\n",
        "#Maximum_install\n",
        "\n",
        "sns.boxplot('Maximum_Installs', data = data, ax = axes[3])\n",
        "axes[3].set_title(\"Maximum_Installs\")\n",
        "\n",
        "#price\n",
        "\n",
        "sns.boxplot('Price', data = data, ax = axes[4])\n",
        "axes[4].set_title(\"Price\")\n",
        "\n",
        "\n",
        "#ad_supported\n",
        "\n",
        "sns.boxplot('Ad_Supported', data = data, ax = axes[5])\n",
        "axes[5].set_title(\"Ad_Supported\")\n",
        "\n",
        "#in_app_purchases\n",
        "\n",
        "sns.boxplot('In_App_Purchases', data = data, ax = axes[6])\n",
        "axes[6].set_title(\"In_App_Purchases\")\n",
        "\n",
        "#editors_choice\n",
        "\n",
        "sns.boxplot('Editors_Choice', data = data, ax = axes[7])\n",
        "axes[7].set_title(\"Editors_Choice\")"
      ],
      "metadata": {
        "colab": {
          "base_uri": "https://localhost:8080/",
          "height": 1000
        },
        "id": "chlyKRapt1lO",
        "outputId": "46d5c33b-a6b8-4258-f98e-70225594ea73"
      },
      "execution_count": 26,
      "outputs": [
        {
          "output_type": "execute_result",
          "data": {
            "text/plain": [
              "Text(0.5, 1.0, 'Editors_Choice')"
            ]
          },
          "metadata": {},
          "execution_count": 26
        },
        {
          "output_type": "display_data",
          "data": {
            "text/plain": [
              "<Figure size 720x2160 with 8 Axes>"
            ],
            "image/png": "[encoded data removed]"
          },
          "metadata": {
            "needs_background": "light"
          }
        }
      ]
    },
    {
      "cell_type": "markdown",
      "source": [
        "INTERQUARTILE RANGE( IT IS THE DIIFERENCE BWTWEEN THE 75TH AND 25TH PERCENTILE OF THE DATA)"
      ],
      "metadata": {
        "id": "9RSuTy4bhpN5"
      }
    },
    {
      "cell_type": "code",
      "source": [
        "#Calculate Q1 for Leadtime attribute\n",
        " \n",
        "Q1_LeadTime = data.Minimum_Installs.quantile(0.25)\n",
        "print(\"Q1_LeadTime:\", int(Q1_LeadTime), \"days\")\n",
        "\n",
        "#Calculating Q3 for LeadTime attribute\n",
        "Q3_LeadTime = data.Minimum_Installs.quantile(0.75)\n",
        "print(\"Q3_LeadTime:\", int(Q3_LeadTime), \"days\")\n",
        "\n",
        "#Calculating IQR for LeadTime attribute\n",
        "IQR_LeadTime = Q3_LeadTime - Q1_LeadTime\n",
        "\n",
        "#Calculating Lower bound for LeadTime attribute\n",
        "lowerBound_LeadTime = Q1_LeadTime - (1.5 * IQR_LeadTime)\n",
        "\n",
        "#Calculating Upper bound for LeadTime attribute\n",
        "upperBound_LeadTime = Q3_LeadTime + (1.5 * IQR_LeadTime)\n",
        "\n",
        "##Removing the outlier\n",
        "index = data['Minimum_Installs'][(data['Minimum_Installs'] > upperBound_LeadTime)].index\n",
        "data.drop(index, inplace = True)\n",
        "\n",
        "#Visualizing distribution of LeadTime attribute\n",
        "sns.boxplot(x = 'Minimum_Installs', data = data)\n",
        "plt.tight_layout()\n",
        "plt.show()"
      ],
      "metadata": {
        "colab": {
          "base_uri": "https://localhost:8080/",
          "height": 334
        },
        "id": "BayteR-Nt1D9",
        "outputId": "b25f1cf6-dd63-43be-a7e5-d4470fe501d7"
      },
      "execution_count": 27,
      "outputs": [
        {
          "output_type": "stream",
          "name": "stdout",
          "text": [
            "Q1_LeadTime: 50 days\n",
            "Q3_LeadTime: 5000 days\n"
          ]
        },
        {
          "output_type": "display_data",
          "data": {
            "text/plain": [
              "<Figure size 432x288 with 1 Axes>"
            ],
            "image/png": "[encoded data removed]"
          },
          "metadata": {
            "needs_background": "light"
          }
        }
      ]
    },
    {
      "cell_type": "code",
      "source": [
        "#Calculate Q1 for Leadtime attribute\n",
        " \n",
        "Q1_LeadTime = data.Maximum_Installs.quantile(0.25)\n",
        "print(\"Q1_LeadTime:\", int(Q1_LeadTime), \"days\")\n",
        "\n",
        "#Calculating Q3 for LeadTime attribute\n",
        "Q3_LeadTime = data.Maximum_Installs.quantile(0.75)\n",
        "print(\"Q3_LeadTime:\", int(Q3_LeadTime), \"days\")\n",
        "\n",
        "#Calculating IQR for LeadTime attribute\n",
        "IQR_LeadTime = Q3_LeadTime - Q1_LeadTime\n",
        "\n",
        "#Calculating Lower bound for LeadTime attribute\n",
        "lowerBound_LeadTime = Q1_LeadTime - (1.5 * IQR_LeadTime)\n",
        "\n",
        "#Calculating Upper bound for LeadTime attribute\n",
        "upperBound_LeadTime = Q3_LeadTime + (1.5 * IQR_LeadTime)\n",
        "\n",
        "##Removing the outlier\n",
        "index = data['Maximum_Installs'][(data['Maximum_Installs'] > upperBound_LeadTime)].index\n",
        "data.drop(index, inplace = True)\n",
        "\n",
        "#Visualizing distribution of LeadTime attribute\n",
        "sns.boxplot(x = 'Maximum_Installs', data = data)\n",
        "plt.tight_layout()\n",
        "plt.show()"
      ],
      "metadata": {
        "colab": {
          "base_uri": "https://localhost:8080/",
          "height": 334
        },
        "id": "abFFwxZut1BI",
        "outputId": "61e01dbb-c3a7-49c1-ca5a-e673ee7dec0d"
      },
      "execution_count": 28,
      "outputs": [
        {
          "output_type": "stream",
          "name": "stdout",
          "text": [
            "Q1_LeadTime: 64 days\n",
            "Q3_LeadTime: 3071 days\n"
          ]
        },
        {
          "output_type": "display_data",
          "data": {
            "text/plain": [
              "<Figure size 432x288 with 1 Axes>"
            ],
            "image/png": "[encoded data removed]"
          },
          "metadata": {
            "needs_background": "light"
          }
        }
      ]
    },
    {
      "cell_type": "code",
      "source": [
        "#Calculate Q1 for Leadtime attribute\n",
        " \n",
        "Q1_LeadTime = data.Price.quantile(0.25)\n",
        "print(\"Q1_LeadTime:\", int(Q1_LeadTime), \"days\")\n",
        "\n",
        "#Calculating Q3 for LeadTime attribute\n",
        "Q3_LeadTime = data.Price.quantile(0.75)\n",
        "print(\"Q3_LeadTime:\", int(Q3_LeadTime), \"days\")\n",
        "\n",
        "#Calculating IQR for LeadTime attribute\n",
        "IQR_LeadTime = Q3_LeadTime - Q1_LeadTime\n",
        "\n",
        "#Calculating Lower bound for LeadTime attribute\n",
        "lowerBound_LeadTime = Q1_LeadTime - (1.5 * IQR_LeadTime)\n",
        "\n",
        "#Calculating Upper bound for LeadTime attribute\n",
        "upperBound_LeadTime = Q3_LeadTime + (1.5 * IQR_LeadTime)\n",
        "\n",
        "##Removing the outlier\n",
        "index = data['Price'][(data['Price'] > upperBound_LeadTime)].index\n",
        "data.drop(index, inplace = True)\n",
        "\n",
        "#Visualizing distribution of LeadTime attribute\n",
        "sns.boxplot(x = 'Price', data = data)\n",
        "plt.tight_layout()\n",
        "plt.show()"
      ],
      "metadata": {
        "colab": {
          "base_uri": "https://localhost:8080/",
          "height": 334
        },
        "id": "vKc7XpeXxEvy",
        "outputId": "8513f278-08d7-4742-c74f-b631c96fb815"
      },
      "execution_count": 29,
      "outputs": [
        {
          "output_type": "stream",
          "name": "stdout",
          "text": [
            "Q1_LeadTime: 0 days\n",
            "Q3_LeadTime: 0 days\n"
          ]
        },
        {
          "output_type": "display_data",
          "data": {
            "text/plain": [
              "<Figure size 432x288 with 1 Axes>"
            ],
            "image/png": "[encoded data removed]"
          },
          "metadata": {
            "needs_background": "light"
          }
        }
      ]
    },
    {
      "cell_type": "code",
      "source": [
        "#Calculate Q1 for Leadtime attribute\n",
        " \n",
        "Q1_LeadTime = data.Ad_Supported.quantile(0.25)\n",
        "print(\"Q1_LeadTime:\", int(Q1_LeadTime), \"days\")\n",
        "\n",
        "#Calculating Q3 for LeadTime attribute\n",
        "Q3_LeadTime = data.Ad_Supported.quantile(0.75)\n",
        "print(\"Q3_LeadTime:\", int(Q3_LeadTime), \"days\")\n",
        "\n",
        "#Calculating IQR for LeadTime attribute\n",
        "IQR_LeadTime = Q3_LeadTime - Q1_LeadTime\n",
        "\n",
        "#Calculating Lower bound for LeadTime attribute\n",
        "lowerBound_LeadTime = Q1_LeadTime - (1.5 * IQR_LeadTime)\n",
        "\n",
        "#Calculating Upper bound for LeadTime attribute\n",
        "upperBound_LeadTime = Q3_LeadTime + (1.5 * IQR_LeadTime)\n",
        "\n",
        "##Removing the outlier\n",
        "index = data['Ad_Supported'][(data['Ad_Supported'] > upperBound_LeadTime)].index\n",
        "data.drop(index, inplace = True)\n",
        "\n",
        "#Visualizing distribution of LeadTime attribute\n",
        "sns.boxplot(x = 'Ad_Supported', data = data)\n",
        "plt.tight_layout()\n",
        "plt.show()"
      ],
      "metadata": {
        "colab": {
          "base_uri": "https://localhost:8080/",
          "height": 334
        },
        "id": "sVkrJKr8xEsE",
        "outputId": "45e07b67-b9e8-42a4-bea3-9f29d899232d"
      },
      "execution_count": 30,
      "outputs": [
        {
          "output_type": "stream",
          "name": "stdout",
          "text": [
            "Q1_LeadTime: 0 days\n",
            "Q3_LeadTime: 1 days\n"
          ]
        },
        {
          "output_type": "display_data",
          "data": {
            "text/plain": [
              "<Figure size 432x288 with 1 Axes>"
            ],
            "image/png": "[encoded data removed]"
          },
          "metadata": {
            "needs_background": "light"
          }
        }
      ]
    },
    {
      "cell_type": "code",
      "source": [
        "#Calculate Q1 for Leadtime attribute\n",
        " \n",
        "Q1_LeadTime = data.In_App_Purchases.quantile(0.25)\n",
        "print(\"Q1_LeadTime:\", int(Q1_LeadTime), \"days\")\n",
        "\n",
        "#Calculating Q3 for LeadTime attribute\n",
        "Q3_LeadTime = data.In_App_Purchases.quantile(0.75)\n",
        "print(\"Q3_LeadTime:\", int(Q3_LeadTime), \"days\")\n",
        "\n",
        "#Calculating IQR for LeadTime attribute\n",
        "IQR_LeadTime = Q3_LeadTime - Q1_LeadTime\n",
        "\n",
        "#Calculating Lower bound for LeadTime attribute\n",
        "lowerBound_LeadTime = Q1_LeadTime - (1.5 * IQR_LeadTime)\n",
        "\n",
        "#Calculating Upper bound for LeadTime attribute\n",
        "upperBound_LeadTime = Q3_LeadTime + (1.5 * IQR_LeadTime)\n",
        "\n",
        "##Removing the outlier\n",
        "index = data['In_App_Purchases'][(data['In_App_Purchases'] > upperBound_LeadTime)].index\n",
        "data.drop(index, inplace = True)\n",
        "\n",
        "#Visualizing distribution of LeadTime attribute\n",
        "sns.boxplot(x = 'In_App_Purchases', data = data)\n",
        "plt.tight_layout()\n",
        "plt.show()"
      ],
      "metadata": {
        "colab": {
          "base_uri": "https://localhost:8080/",
          "height": 334
        },
        "id": "Yj1Zu0EtxEpx",
        "outputId": "1adf19f2-6bda-40e1-b949-09d287b1a016"
      },
      "execution_count": 31,
      "outputs": [
        {
          "output_type": "stream",
          "name": "stdout",
          "text": [
            "Q1_LeadTime: 0 days\n",
            "Q3_LeadTime: 0 days\n"
          ]
        },
        {
          "output_type": "display_data",
          "data": {
            "text/plain": [
              "<Figure size 432x288 with 1 Axes>"
            ],
            "image/png": "[encoded data removed]"
          },
          "metadata": {
            "needs_background": "light"
          }
        }
      ]
    },
    {
      "cell_type": "code",
      "source": [
        "#Calculate Q1 for Leadtime attribute\n",
        " \n",
        "Q1_LeadTime = data.Editors_Choice.quantile(0.25)\n",
        "print(\"Q1_LeadTime:\", int(Q1_LeadTime), \"days\")\n",
        "\n",
        "#Calculating Q3 for LeadTime attribute\n",
        "Q3_LeadTime = data.Editors_Choice.quantile(0.75)\n",
        "print(\"Q3_LeadTime:\", int(Q3_LeadTime), \"days\")\n",
        "\n",
        "#Calculating IQR for LeadTime attribute\n",
        "IQR_LeadTime = Q3_LeadTime - Q1_LeadTime\n",
        "\n",
        "#Calculating Lower bound for LeadTime attribute\n",
        "lowerBound_LeadTime = Q1_LeadTime - (1.5 * IQR_LeadTime)\n",
        "\n",
        "#Calculating Upper bound for LeadTime attribute\n",
        "upperBound_LeadTime = Q3_LeadTime + (1.5 * IQR_LeadTime)\n",
        "\n",
        "##Removing the outlier\n",
        "index = data['Editors_Choice'][(data['Editors_Choice'] > upperBound_LeadTime)].index\n",
        "data.drop(index, inplace = True)\n",
        "\n",
        "#Visualizing distribution of LeadTime attribute\n",
        "sns.boxplot(x = 'Editors_Choice', data = data)\n",
        "plt.tight_layout()\n",
        "plt.show()"
      ],
      "metadata": {
        "colab": {
          "base_uri": "https://localhost:8080/",
          "height": 334
        },
        "id": "1s1GS0HOxEnT",
        "outputId": "8b40d25a-1382-47d7-877e-4ce9863f4e8b"
      },
      "execution_count": 32,
      "outputs": [
        {
          "output_type": "stream",
          "name": "stdout",
          "text": [
            "Q1_LeadTime: 0 days\n",
            "Q3_LeadTime: 0 days\n"
          ]
        },
        {
          "output_type": "display_data",
          "data": {
            "text/plain": [
              "<Figure size 432x288 with 1 Axes>"
            ],
            "image/png": "[encoded data removed]"
          },
          "metadata": {
            "needs_background": "light"
          }
        }
      ]
    },
    {
      "cell_type": "code",
      "execution_count": 33,
      "metadata": {
        "colab": {
          "base_uri": "https://localhost:8080/"
        },
        "id": "WD-MfbGxBg1K",
        "outputId": "cce83650-e51b-4ee0-848e-ae48ec54f003"
      },
      "outputs": [
        {
          "output_type": "execute_result",
          "data": {
            "text/plain": [
              "App_Name             category\n",
              "App_Id               category\n",
              "Category             category\n",
              "Installs             category\n",
              "Minimum_Installs        int64\n",
              "Maximum_Installs        int64\n",
              "Free                 category\n",
              "Price                   int64\n",
              "Currency             category\n",
              "Size                 category\n",
              "Developer_Id         category\n",
              "Developer_Email      category\n",
              "Last_Updated         category\n",
              "Content_Rating       category\n",
              "Ad_Supported            int64\n",
              "In_App_Purchases        int64\n",
              "Editors_Choice          int64\n",
              "scrap_time_period    category\n",
              "dtype: object"
            ]
          },
          "metadata": {},
          "execution_count": 33
        }
      ],
      "source": [
        "data.dtypes"
      ]
    },
    {
      "cell_type": "code",
      "execution_count": 34,
      "metadata": {
        "colab": {
          "base_uri": "https://localhost:8080/"
        },
        "id": "_0t2y2pIBxrQ",
        "outputId": "91e9b9bd-6ef7-432a-b9ef-55930b4a1e26"
      },
      "outputs": [
        {
          "output_type": "execute_result",
          "data": {
            "text/plain": [
              "[True, False]\n",
              "Categories (2, object): [False, True]"
            ]
          },
          "metadata": {},
          "execution_count": 34
        }
      ],
      "source": [
        "data[\"Free\"].unique()"
      ]
    },
    {
      "cell_type": "code",
      "execution_count": 35,
      "metadata": {
        "colab": {
          "base_uri": "https://localhost:8080/"
        },
        "id": "DGMBdbR-CHWu",
        "outputId": "35c33f74-8c97-409e-c3c2-f0ab91c72d65"
      },
      "outputs": [
        {
          "output_type": "execute_result",
          "data": {
            "text/plain": [
              "True     213921\n",
              "False      1376\n",
              "Name: Free, dtype: int64"
            ]
          },
          "metadata": {},
          "execution_count": 35
        }
      ],
      "source": [
        "#counting count values  for free attribute\n",
        "data[\"Free\"].value_counts()\n"
      ]
    },
    {
      "cell_type": "code",
      "execution_count": 36,
      "metadata": {
        "colab": {
          "base_uri": "https://localhost:8080/",
          "height": 301
        },
        "id": "WhAo_4RjRce3",
        "outputId": "b3c3327b-9ff2-4786-b672-dcf6d6872448"
      },
      "outputs": [
        {
          "output_type": "display_data",
          "data": {
            "text/plain": [
              "<Figure size 432x288 with 1 Axes>"
            ],
            "image/png": "[encoded data removed]"
          },
          "metadata": {
            "needs_background": "light"
          }
        },
        {
          "output_type": "display_data",
          "data": {
            "text/plain": [
              "<Figure size 1440x720 with 0 Axes>"
            ]
          },
          "metadata": {}
        }
      ],
      "source": [
        "## Distribution of Content_Rating\n",
        "\n",
        "sns.histplot(data['Content_Rating'])\n",
        "plt.figure(figsize=(20, 10))\n",
        "plt.show()"
      ]
    },
    {
      "cell_type": "code",
      "execution_count": 37,
      "metadata": {
        "colab": {
          "base_uri": "https://localhost:8080/",
          "height": 279
        },
        "id": "mzvtE-gXRcaW",
        "outputId": "1eb4bad8-131e-4a4c-e433-8d42deae09f3"
      },
      "outputs": [
        {
          "output_type": "display_data",
          "data": {
            "text/plain": [
              "<Figure size 432x288 with 1 Axes>"
            ],
            "image/png": "[encoded data removed]"
          },
          "metadata": {
            "needs_background": "light"
          }
        }
      ],
      "source": [
        "#Distribution of currency.\n",
        "\n",
        "sns.histplot(x = 'Currency', data = data)\n",
        "plt.show()"
      ]
    },
    {
      "cell_type": "markdown",
      "source": [
        "#percentage of applications that are FREE of COST to the customers"
      ],
      "metadata": {
        "id": "ctr5Ec-Xjg9P"
      }
    },
    {
      "cell_type": "code",
      "source": [
        "data.Free.value_counts()"
      ],
      "metadata": {
        "colab": {
          "base_uri": "https://localhost:8080/"
        },
        "id": "xO7vd37Zi3HN",
        "outputId": "95129ce8-6a0e-4b1b-f65c-07fae29a41c0"
      },
      "execution_count": 38,
      "outputs": [
        {
          "output_type": "execute_result",
          "data": {
            "text/plain": [
              "True     213921\n",
              "False      1376\n",
              "Name: Free, dtype: int64"
            ]
          },
          "metadata": {},
          "execution_count": 38
        }
      ]
    },
    {
      "cell_type": "code",
      "source": [
        "#Pie chart \n",
        "\n",
        "Free = data.Free[data[\"Free\"]==1].count()\n",
        "NotFree = data.Free[data[\"Free\"]==0].count()\n",
        "\n",
        "labels = ['Free', 'NotFree']\n",
        "slices = [Free, NotFree]\n",
        "explode = [0.1, 0]\n",
        "\n",
        "plt.pie(slices, labels = labels, explode = explode, shadow = True,\n",
        "        startangle = -40, autopct = '%1.1f%%',\n",
        "        wedgeprops = {'edgecolor':'black'})\n",
        "plt.axis('equal') #equal aspect ratio ensures that pie is drawn as a circle\n",
        "plt.title(\"Is App free or not?\",fontdict={'size':20,'weight':'bold'})\n",
        "plt.legend()\n",
        "plt.tight_layout #used for default padding\n",
        "#plt.savefig('Is App free or not?.jpg')\n",
        "plt.show()"
      ],
      "metadata": {
        "colab": {
          "base_uri": "https://localhost:8080/",
          "height": 269
        },
        "id": "N7zsf3GMjH9w",
        "outputId": "a6d388eb-9112-4cc4-c589-5e3fa41dc1d1"
      },
      "execution_count": 39,
      "outputs": [
        {
          "output_type": "display_data",
          "data": {
            "text/plain": [
              "<Figure size 432x288 with 1 Axes>"
            ],
            "image/png": "[encoded data removed]"
          },
          "metadata": {}
        }
      ]
    },
    {
      "cell_type": "markdown",
      "source": [
        "# Percentage of applications that Supported Ads and without Ads."
      ],
      "metadata": {
        "id": "qj6n52Pdjo23"
      }
    },
    {
      "cell_type": "code",
      "source": [
        "#Pie chart\n",
        "\n",
        "Supported = data.Free[data[\"Free\"]==1].count()\n",
        "NotSupported = data.Free[data[\"Free\"]==0].count()\n",
        "\n",
        "labels = ['Supported', 'NotSupported']\n",
        "slices = [Supported, NotSupported]\n",
        "explode = [0.1, 0]\n",
        "\n",
        "plt.pie(slices, labels = labels, explode = explode, shadow = True,\n",
        "        startangle = -40, autopct = '%1.1f%%',\n",
        "        wedgeprops = {'edgecolor':'black'})\n",
        "plt.axis('equal') #equal aspect ratio ensures that pie is drawn as a circle\n",
        "plt.title(\"Is App Supported or not?\",fontdict={'size':20,'weight':'bold'})\n",
        "plt.legend()\n",
        "plt.tight_layout #used for default padding\n",
        "#plt.savefig('Is App Supported or not?.jpg')\n",
        "plt.show()"
      ],
      "metadata": {
        "colab": {
          "base_uri": "https://localhost:8080/",
          "height": 269
        },
        "id": "v2OYTqEGjKxA",
        "outputId": "4e9d715c-7da0-470f-8e8b-321d07dab42d"
      },
      "execution_count": 40,
      "outputs": [
        {
          "output_type": "display_data",
          "data": {
            "text/plain": [
              "<Figure size 432x288 with 1 Axes>"
            ],
            "image/png": "[encoded data removed]"
          },
          "metadata": {}
        }
      ]
    },
    {
      "cell_type": "markdown",
      "source": [
        "#Percentage of Applications that are in purchases and without purchases"
      ],
      "metadata": {
        "id": "6cigiKQ1j6su"
      }
    },
    {
      "cell_type": "code",
      "source": [
        "#Pie chart\n",
        "\n",
        "Purchased = data.Free[data[\"Free\"]==1].count()\n",
        "NotPurchased = data.Free[data[\"Free\"]==0].count()\n",
        "\n",
        "labels = ['Purchased', 'NotPurchased']\n",
        "slices = [Purchased, NotPurchased]\n",
        "explode = [0.1, 0]\n",
        "\n",
        "plt.pie(slices, labels = labels, explode = explode, shadow = True,\n",
        "        startangle = -40, autopct = '%1.1f%%',\n",
        "        wedgeprops = {'edgecolor':'black'})\n",
        "plt.axis('equal') #equal aspect ratio ensures that pie is drawn as a circle\n",
        "plt.title(\"Is App Supported or not?\",fontdict={'size':20,'weight':'bold'})\n",
        "plt.legend()\n",
        "plt.tight_layout #used for default padding\n",
        "#plt.savefig('Is App Supported or not?.jpg')\n",
        "plt.show()"
      ],
      "metadata": {
        "colab": {
          "base_uri": "https://localhost:8080/",
          "height": 269
        },
        "id": "WdiwiJu8jKty",
        "outputId": "88aacc7b-f4c8-4897-f8e2-07582c6b3aba"
      },
      "execution_count": 41,
      "outputs": [
        {
          "output_type": "display_data",
          "data": {
            "text/plain": [
              "<Figure size 432x288 with 1 Axes>"
            ],
            "image/png": "[encoded data removed]"
          },
          "metadata": {}
        }
      ]
    },
    {
      "cell_type": "code",
      "execution_count": 42,
      "metadata": {
        "id": "yOnjQGBFi1A9"
      },
      "outputs": [],
      "source": [
        "#drop the columns that are not numeric\n",
        "data = data.drop(['App_Name','App_Id','Content_Rating','Category','Free','Installs','Currency','Developer_Id','Developer_Email','Size','scrap_time_period','App_Name','Last_Updated','Category'] , axis = 1)\n"
      ]
    },
    {
      "cell_type": "code",
      "source": [
        "data.columns"
      ],
      "metadata": {
        "colab": {
          "base_uri": "https://localhost:8080/"
        },
        "id": "1U04bJXXJHjT",
        "outputId": "20e1b2ad-7f06-4bba-e3ae-c4715b9942ed"
      },
      "execution_count": 43,
      "outputs": [
        {
          "output_type": "execute_result",
          "data": {
            "text/plain": [
              "Index(['Minimum_Installs', 'Maximum_Installs', 'Price', 'Ad_Supported',\n",
              "       'In_App_Purchases', 'Editors_Choice'],\n",
              "      dtype='object')"
            ]
          },
          "metadata": {},
          "execution_count": 43
        }
      ]
    },
    {
      "cell_type": "markdown",
      "source": [
        "# Normalize the data set using Min-Max Scaling: "
      ],
      "metadata": {
        "id": "v-Wdm2GcDWXq"
      }
    },
    {
      "cell_type": "code",
      "source": [
        "from sklearn import preprocessing"
      ],
      "metadata": {
        "id": "hhKSXCdCDYvA"
      },
      "execution_count": 44,
      "outputs": []
    },
    {
      "cell_type": "code",
      "source": [
        "scaler = preprocessing.MinMaxScaler()"
      ],
      "metadata": {
        "id": "CsihFWGDDYrs"
      },
      "execution_count": 45,
      "outputs": []
    },
    {
      "cell_type": "code",
      "source": [
        "names = data.columns"
      ],
      "metadata": {
        "id": "S10nGdRIDYpB"
      },
      "execution_count": 46,
      "outputs": []
    },
    {
      "cell_type": "code",
      "source": [
        "d = scaler.fit_transform(data)"
      ],
      "metadata": {
        "id": "L4RlHUqyDV4z"
      },
      "execution_count": 47,
      "outputs": []
    },
    {
      "cell_type": "code",
      "source": [
        "scaled_df = pd.DataFrame(d,columns=names)"
      ],
      "metadata": {
        "id": "t0zAwjZvDneN"
      },
      "execution_count": 48,
      "outputs": []
    },
    {
      "cell_type": "code",
      "source": [
        "scaled_df.head().T"
      ],
      "metadata": {
        "colab": {
          "base_uri": "https://localhost:8080/",
          "height": 237
        },
        "id": "cpVzN1r3DnZb",
        "outputId": "18e71659-d10c-4f85-91fa-52841a808a27"
      },
      "execution_count": 49,
      "outputs": [
        {
          "output_type": "execute_result",
          "data": {
            "text/plain": [
              "                         0         1         2         3        4\n",
              "Minimum_Installs  0.002000  0.010000  0.002000  0.020000  0.20000\n",
              "Maximum_Installs  0.001979  0.007651  0.002506  0.063052  0.33861\n",
              "Price             0.000000  0.000000  0.000000  0.000000  0.00000\n",
              "Ad_Supported      0.000000  0.000000  1.000000  0.000000  1.00000\n",
              "In_App_Purchases  0.000000  0.000000  0.000000  0.000000  0.00000\n",
              "Editors_Choice    0.000000  0.000000  0.000000  0.000000  0.00000"
            ],
            "text/html": [
              "\n",
              "  <div id=\"df-37fdef40-ec93-4062-9528-f72e5e29e0c3\">\n",
              "    <div class=\"colab-df-container\">\n",
              "      <div>\n",
              "<style scoped>\n",
              "    .dataframe tbody tr th:only-of-type {\n",
              "        vertical-align: middle;\n",
              "    }\n",
              "\n",
              "    .dataframe tbody tr th {\n",
              "        vertical-align: top;\n",
              "    }\n",
              "\n",
              "    .dataframe thead th {\n",
              "        text-align: right;\n",
              "    }\n",
              "</style>\n",
              "<table border=\"1\" class=\"dataframe\">\n",
              "  <thead>\n",
              "    <tr style=\"text-align: right;\">\n",
              "      <th></th>\n",
              "      <th>0</th>\n",
              "      <th>1</th>\n",
              "      <th>2</th>\n",
              "      <th>3</th>\n",
              "      <th>4</th>\n",
              "    </tr>\n",
              "  </thead>\n",
              "  <tbody>\n",
              "    <tr>\n",
              "      <th>Minimum_Installs</th>\n",
              "      <td>0.002000</td>\n",
              "      <td>0.010000</td>\n",
              "      <td>0.002000</td>\n",
              "      <td>0.020000</td>\n",
              "      <td>0.20000</td>\n",
              "    </tr>\n",
              "    <tr>\n",
              "      <th>Maximum_Installs</th>\n",
              "      <td>0.001979</td>\n",
              "      <td>0.007651</td>\n",
              "      <td>0.002506</td>\n",
              "      <td>0.063052</td>\n",
              "      <td>0.33861</td>\n",
              "    </tr>\n",
              "    <tr>\n",
              "      <th>Price</th>\n",
              "      <td>0.000000</td>\n",
              "      <td>0.000000</td>\n",
              "      <td>0.000000</td>\n",
              "      <td>0.000000</td>\n",
              "      <td>0.00000</td>\n",
              "    </tr>\n",
              "    <tr>\n",
              "      <th>Ad_Supported</th>\n",
              "      <td>0.000000</td>\n",
              "      <td>0.000000</td>\n",
              "      <td>1.000000</td>\n",
              "      <td>0.000000</td>\n",
              "      <td>1.00000</td>\n",
              "    </tr>\n",
              "    <tr>\n",
              "      <th>In_App_Purchases</th>\n",
              "      <td>0.000000</td>\n",
              "      <td>0.000000</td>\n",
              "      <td>0.000000</td>\n",
              "      <td>0.000000</td>\n",
              "      <td>0.00000</td>\n",
              "    </tr>\n",
              "    <tr>\n",
              "      <th>Editors_Choice</th>\n",
              "      <td>0.000000</td>\n",
              "      <td>0.000000</td>\n",
              "      <td>0.000000</td>\n",
              "      <td>0.000000</td>\n",
              "      <td>0.00000</td>\n",
              "    </tr>\n",
              "  </tbody>\n",
              "</table>\n",
              "</div>\n",
              "      <button class=\"colab-df-convert\" onclick=\"convertToInteractive('df-37fdef40-ec93-4062-9528-f72e5e29e0c3')\"\n",
              "              title=\"Convert this dataframe to an interactive table.\"\n",
              "              style=\"display:none;\">\n",
              "        \n",
              "  <svg xmlns=\"http://www.w3.org/2000/svg\" height=\"24px\"viewBox=\"0 0 24 24\"\n",
              "       width=\"24px\">\n",
              "    <path d=\"M0 0h24v24H0V0z\" fill=\"none\"/>\n",
              "    <path d=\"M18.56 5.44l.94 2.06.94-2.06 2.06-.94-2.06-.94-.94-2.06-.94 2.06-2.06.94zm-11 1L8.5 8.5l.94-2.06 2.06-.94-2.06-.94L8.5 2.5l-.94 2.06-2.06.94zm10 10l.94 2.06.94-2.06 2.06-.94-2.06-.94-.94-2.06-.94 2.06-2.06.94z\"/><path d=\"M17.41 7.96l-1.37-1.37c-.4-.4-.92-.59-1.43-.59-.52 0-1.04.2-1.43.59L10.3 9.45l-7.72 7.72c-.78.78-.78 2.05 0 2.83L4 21.41c.39.39.9.59 1.41.59.51 0 1.02-.2 1.41-.59l7.78-7.78 2.81-2.81c.8-.78.8-2.07 0-2.86zM5.41 20L4 18.59l7.72-7.72 1.47 1.35L5.41 20z\"/>\n",
              "  </svg>\n",
              "      </button>\n",
              "      \n",
              "  <style>\n",
              "    .colab-df-container {\n",
              "      display:flex;\n",
              "      flex-wrap:wrap;\n",
              "      gap: 12px;\n",
              "    }\n",
              "\n",
              "    .colab-df-convert {\n",
              "      background-color: #E8F0FE;\n",
              "      border: none;\n",
              "      border-radius: 50%;\n",
              "      cursor: pointer;\n",
              "      display: none;\n",
              "      fill: #1967D2;\n",
              "      height: 32px;\n",
              "      padding: 0 0 0 0;\n",
              "      width: 32px;\n",
              "    }\n",
              "\n",
              "    .colab-df-convert:hover {\n",
              "      background-color: #E2EBFA;\n",
              "      box-shadow: 0px 1px 2px rgba(60, 64, 67, 0.3), 0px 1px 3px 1px rgba(60, 64, 67, 0.15);\n",
              "      fill: #174EA6;\n",
              "    }\n",
              "\n",
              "    [theme=dark] .colab-df-convert {\n",
              "      background-color: #3B4455;\n",
              "      fill: #D2E3FC;\n",
              "    }\n",
              "\n",
              "    [theme=dark] .colab-df-convert:hover {\n",
              "      background-color: #434B5C;\n",
              "      box-shadow: 0px 1px 3px 1px rgba(0, 0, 0, 0.15);\n",
              "      filter: drop-shadow(0px 1px 2px rgba(0, 0, 0, 0.3));\n",
              "      fill: #FFFFFF;\n",
              "    }\n",
              "  </style>\n",
              "\n",
              "      <script>\n",
              "        const buttonEl =\n",
              "          document.querySelector('#df-37fdef40-ec93-4062-9528-f72e5e29e0c3 button.colab-df-convert');\n",
              "        buttonEl.style.display =\n",
              "          google.colab.kernel.accessAllowed ? 'block' : 'none';\n",
              "\n",
              "        async function convertToInteractive(key) {\n",
              "          const element = document.querySelector('#df-37fdef40-ec93-4062-9528-f72e5e29e0c3');\n",
              "          const dataTable =\n",
              "            await google.colab.kernel.invokeFunction('convertToInteractive',\n",
              "                                                     [key], {});\n",
              "          if (!dataTable) return;\n",
              "\n",
              "          const docLinkHtml = 'Like what you see? Visit the ' +\n",
              "            '<a target=\"_blank\" href=https://colab.research.google.com/notebooks/data_table.ipynb>data table notebook</a>'\n",
              "            + ' to learn more about interactive tables.';\n",
              "          element.innerHTML = '';\n",
              "          dataTable['output_type'] = 'display_data';\n",
              "          await google.colab.output.renderOutput(dataTable, element);\n",
              "          const docLink = document.createElement('div');\n",
              "          docLink.innerHTML = docLinkHtml;\n",
              "          element.appendChild(docLink);\n",
              "        }\n",
              "      </script>\n",
              "    </div>\n",
              "  </div>\n",
              "  "
            ]
          },
          "metadata": {},
          "execution_count": 49
        }
      ]
    },
    {
      "cell_type": "markdown",
      "metadata": {
        "id": "nF3b4VghT1bM"
      },
      "source": [
        "##Check value counts corresponding to target variable."
      ]
    },
    {
      "cell_type": "code",
      "execution_count": 50,
      "metadata": {
        "colab": {
          "base_uri": "https://localhost:8080/"
        },
        "id": "AMbJIxF1RcYY",
        "outputId": "98845e21-834c-4a85-88d7-4c9bf364ac04"
      },
      "outputs": [
        {
          "output_type": "execute_result",
          "data": {
            "text/plain": [
              "0    122220\n",
              "1     93077\n",
              "Name: Ad_Supported, dtype: int64"
            ]
          },
          "metadata": {},
          "execution_count": 50
        }
      ],
      "source": [
        "# No of counts corresponding to target variable\n",
        "\n",
        "data[\"Ad_Supported\"].value_counts()"
      ]
    },
    {
      "cell_type": "markdown",
      "source": [
        "#Separating input and target variables"
      ],
      "metadata": {
        "id": "HaRSk_qCzDye"
      }
    },
    {
      "cell_type": "code",
      "execution_count": 51,
      "metadata": {
        "id": "ZGizLuUrRcWX"
      },
      "outputs": [],
      "source": [
        "#Separating the input and response variable\n",
        "\n",
        "X = data.iloc[:, :-3] # X = independent variables\n",
        "y = data.iloc[:, -3] # y = target and response variable"
      ]
    },
    {
      "cell_type": "code",
      "execution_count": 52,
      "metadata": {
        "colab": {
          "base_uri": "https://localhost:8080/",
          "height": 206
        },
        "id": "9G8gKLMARcPE",
        "outputId": "63934ab6-ce50-42d7-988a-916ae961b27a"
      },
      "outputs": [
        {
          "output_type": "execute_result",
          "data": {
            "text/plain": [
              "   Minimum_Installs  Maximum_Installs  Price\n",
              "0                10                15      0\n",
              "2                50                58      0\n",
              "3                10                19      0\n",
              "4               100               478      0\n",
              "6              1000              2567      0"
            ],
            "text/html": [
              "\n",
              "  <div id=\"df-8f235ca3-5dc5-41a4-863d-deb5052d12c6\">\n",
              "    <div class=\"colab-df-container\">\n",
              "      <div>\n",
              "<style scoped>\n",
              "    .dataframe tbody tr th:only-of-type {\n",
              "        vertical-align: middle;\n",
              "    }\n",
              "\n",
              "    .dataframe tbody tr th {\n",
              "        vertical-align: top;\n",
              "    }\n",
              "\n",
              "    .dataframe thead th {\n",
              "        text-align: right;\n",
              "    }\n",
              "</style>\n",
              "<table border=\"1\" class=\"dataframe\">\n",
              "  <thead>\n",
              "    <tr style=\"text-align: right;\">\n",
              "      <th></th>\n",
              "      <th>Minimum_Installs</th>\n",
              "      <th>Maximum_Installs</th>\n",
              "      <th>Price</th>\n",
              "    </tr>\n",
              "  </thead>\n",
              "  <tbody>\n",
              "    <tr>\n",
              "      <th>0</th>\n",
              "      <td>10</td>\n",
              "      <td>15</td>\n",
              "      <td>0</td>\n",
              "    </tr>\n",
              "    <tr>\n",
              "      <th>2</th>\n",
              "      <td>50</td>\n",
              "      <td>58</td>\n",
              "      <td>0</td>\n",
              "    </tr>\n",
              "    <tr>\n",
              "      <th>3</th>\n",
              "      <td>10</td>\n",
              "      <td>19</td>\n",
              "      <td>0</td>\n",
              "    </tr>\n",
              "    <tr>\n",
              "      <th>4</th>\n",
              "      <td>100</td>\n",
              "      <td>478</td>\n",
              "      <td>0</td>\n",
              "    </tr>\n",
              "    <tr>\n",
              "      <th>6</th>\n",
              "      <td>1000</td>\n",
              "      <td>2567</td>\n",
              "      <td>0</td>\n",
              "    </tr>\n",
              "  </tbody>\n",
              "</table>\n",
              "</div>\n",
              "      <button class=\"colab-df-convert\" onclick=\"convertToInteractive('df-8f235ca3-5dc5-41a4-863d-deb5052d12c6')\"\n",
              "              title=\"Convert this dataframe to an interactive table.\"\n",
              "              style=\"display:none;\">\n",
              "        \n",
              "  <svg xmlns=\"http://www.w3.org/2000/svg\" height=\"24px\"viewBox=\"0 0 24 24\"\n",
              "       width=\"24px\">\n",
              "    <path d=\"M0 0h24v24H0V0z\" fill=\"none\"/>\n",
              "    <path d=\"M18.56 5.44l.94 2.06.94-2.06 2.06-.94-2.06-.94-.94-2.06-.94 2.06-2.06.94zm-11 1L8.5 8.5l.94-2.06 2.06-.94-2.06-.94L8.5 2.5l-.94 2.06-2.06.94zm10 10l.94 2.06.94-2.06 2.06-.94-2.06-.94-.94-2.06-.94 2.06-2.06.94z\"/><path d=\"M17.41 7.96l-1.37-1.37c-.4-.4-.92-.59-1.43-.59-.52 0-1.04.2-1.43.59L10.3 9.45l-7.72 7.72c-.78.78-.78 2.05 0 2.83L4 21.41c.39.39.9.59 1.41.59.51 0 1.02-.2 1.41-.59l7.78-7.78 2.81-2.81c.8-.78.8-2.07 0-2.86zM5.41 20L4 18.59l7.72-7.72 1.47 1.35L5.41 20z\"/>\n",
              "  </svg>\n",
              "      </button>\n",
              "      \n",
              "  <style>\n",
              "    .colab-df-container {\n",
              "      display:flex;\n",
              "      flex-wrap:wrap;\n",
              "      gap: 12px;\n",
              "    }\n",
              "\n",
              "    .colab-df-convert {\n",
              "      background-color: #E8F0FE;\n",
              "      border: none;\n",
              "      border-radius: 50%;\n",
              "      cursor: pointer;\n",
              "      display: none;\n",
              "      fill: #1967D2;\n",
              "      height: 32px;\n",
              "      padding: 0 0 0 0;\n",
              "      width: 32px;\n",
              "    }\n",
              "\n",
              "    .colab-df-convert:hover {\n",
              "      background-color: #E2EBFA;\n",
              "      box-shadow: 0px 1px 2px rgba(60, 64, 67, 0.3), 0px 1px 3px 1px rgba(60, 64, 67, 0.15);\n",
              "      fill: #174EA6;\n",
              "    }\n",
              "\n",
              "    [theme=dark] .colab-df-convert {\n",
              "      background-color: #3B4455;\n",
              "      fill: #D2E3FC;\n",
              "    }\n",
              "\n",
              "    [theme=dark] .colab-df-convert:hover {\n",
              "      background-color: #434B5C;\n",
              "      box-shadow: 0px 1px 3px 1px rgba(0, 0, 0, 0.15);\n",
              "      filter: drop-shadow(0px 1px 2px rgba(0, 0, 0, 0.3));\n",
              "      fill: #FFFFFF;\n",
              "    }\n",
              "  </style>\n",
              "\n",
              "      <script>\n",
              "        const buttonEl =\n",
              "          document.querySelector('#df-8f235ca3-5dc5-41a4-863d-deb5052d12c6 button.colab-df-convert');\n",
              "        buttonEl.style.display =\n",
              "          google.colab.kernel.accessAllowed ? 'block' : 'none';\n",
              "\n",
              "        async function convertToInteractive(key) {\n",
              "          const element = document.querySelector('#df-8f235ca3-5dc5-41a4-863d-deb5052d12c6');\n",
              "          const dataTable =\n",
              "            await google.colab.kernel.invokeFunction('convertToInteractive',\n",
              "                                                     [key], {});\n",
              "          if (!dataTable) return;\n",
              "\n",
              "          const docLinkHtml = 'Like what you see? Visit the ' +\n",
              "            '<a target=\"_blank\" href=https://colab.research.google.com/notebooks/data_table.ipynb>data table notebook</a>'\n",
              "            + ' to learn more about interactive tables.';\n",
              "          element.innerHTML = '';\n",
              "          dataTable['output_type'] = 'display_data';\n",
              "          await google.colab.output.renderOutput(dataTable, element);\n",
              "          const docLink = document.createElement('div');\n",
              "          docLink.innerHTML = docLinkHtml;\n",
              "          element.appendChild(docLink);\n",
              "        }\n",
              "      </script>\n",
              "    </div>\n",
              "  </div>\n",
              "  "
            ]
          },
          "metadata": {},
          "execution_count": 52
        }
      ],
      "source": [
        "X.head(5)\n"
      ]
    },
    {
      "cell_type": "code",
      "execution_count": 53,
      "metadata": {
        "colab": {
          "base_uri": "https://localhost:8080/"
        },
        "id": "DGnlwIQmVaOl",
        "outputId": "30bc5c5f-ac44-403f-d1bb-92731579c0ee"
      },
      "outputs": [
        {
          "output_type": "execute_result",
          "data": {
            "text/plain": [
              "0    0\n",
              "2    0\n",
              "3    1\n",
              "4    0\n",
              "6    1\n",
              "Name: Ad_Supported, dtype: int64"
            ]
          },
          "metadata": {},
          "execution_count": 53
        }
      ],
      "source": [
        "y.head()"
      ]
    },
    {
      "cell_type": "markdown",
      "source": [
        "#Train-test split((means the data in the testing set already contains known values for the attribute that you want to predict, it is easy to determine whether the model guesses are correct)"
      ],
      "metadata": {
        "id": "opj5w1ZszHn4"
      }
    },
    {
      "cell_type": "code",
      "execution_count": 54,
      "metadata": {
        "colab": {
          "base_uri": "https://localhost:8080/",
          "height": 206
        },
        "id": "KTdO4WhUVaLB",
        "outputId": "f9c89282-8d52-4187-a400-23b71b695052"
      },
      "outputs": [
        {
          "output_type": "execute_result",
          "data": {
            "text/plain": [
              "        Minimum_Installs  Maximum_Installs  Price\n",
              "3330                 100               334      0\n",
              "173484               100               167      0\n",
              "253822               100               412      0\n",
              "3852                 100               139      0\n",
              "56027                 10                47      0"
            ],
            "text/html": [
              "\n",
              "  <div id=\"df-563a4327-fed5-4199-9287-15c0cd03f669\">\n",
              "    <div class=\"colab-df-container\">\n",
              "      <div>\n",
              "<style scoped>\n",
              "    .dataframe tbody tr th:only-of-type {\n",
              "        vertical-align: middle;\n",
              "    }\n",
              "\n",
              "    .dataframe tbody tr th {\n",
              "        vertical-align: top;\n",
              "    }\n",
              "\n",
              "    .dataframe thead th {\n",
              "        text-align: right;\n",
              "    }\n",
              "</style>\n",
              "<table border=\"1\" class=\"dataframe\">\n",
              "  <thead>\n",
              "    <tr style=\"text-align: right;\">\n",
              "      <th></th>\n",
              "      <th>Minimum_Installs</th>\n",
              "      <th>Maximum_Installs</th>\n",
              "      <th>Price</th>\n",
              "    </tr>\n",
              "  </thead>\n",
              "  <tbody>\n",
              "    <tr>\n",
              "      <th>3330</th>\n",
              "      <td>100</td>\n",
              "      <td>334</td>\n",
              "      <td>0</td>\n",
              "    </tr>\n",
              "    <tr>\n",
              "      <th>173484</th>\n",
              "      <td>100</td>\n",
              "      <td>167</td>\n",
              "      <td>0</td>\n",
              "    </tr>\n",
              "    <tr>\n",
              "      <th>253822</th>\n",
              "      <td>100</td>\n",
              "      <td>412</td>\n",
              "      <td>0</td>\n",
              "    </tr>\n",
              "    <tr>\n",
              "      <th>3852</th>\n",
              "      <td>100</td>\n",
              "      <td>139</td>\n",
              "      <td>0</td>\n",
              "    </tr>\n",
              "    <tr>\n",
              "      <th>56027</th>\n",
              "      <td>10</td>\n",
              "      <td>47</td>\n",
              "      <td>0</td>\n",
              "    </tr>\n",
              "  </tbody>\n",
              "</table>\n",
              "</div>\n",
              "      <button class=\"colab-df-convert\" onclick=\"convertToInteractive('df-563a4327-fed5-4199-9287-15c0cd03f669')\"\n",
              "              title=\"Convert this dataframe to an interactive table.\"\n",
              "              style=\"display:none;\">\n",
              "        \n",
              "  <svg xmlns=\"http://www.w3.org/2000/svg\" height=\"24px\"viewBox=\"0 0 24 24\"\n",
              "       width=\"24px\">\n",
              "    <path d=\"M0 0h24v24H0V0z\" fill=\"none\"/>\n",
              "    <path d=\"M18.56 5.44l.94 2.06.94-2.06 2.06-.94-2.06-.94-.94-2.06-.94 2.06-2.06.94zm-11 1L8.5 8.5l.94-2.06 2.06-.94-2.06-.94L8.5 2.5l-.94 2.06-2.06.94zm10 10l.94 2.06.94-2.06 2.06-.94-2.06-.94-.94-2.06-.94 2.06-2.06.94z\"/><path d=\"M17.41 7.96l-1.37-1.37c-.4-.4-.92-.59-1.43-.59-.52 0-1.04.2-1.43.59L10.3 9.45l-7.72 7.72c-.78.78-.78 2.05 0 2.83L4 21.41c.39.39.9.59 1.41.59.51 0 1.02-.2 1.41-.59l7.78-7.78 2.81-2.81c.8-.78.8-2.07 0-2.86zM5.41 20L4 18.59l7.72-7.72 1.47 1.35L5.41 20z\"/>\n",
              "  </svg>\n",
              "      </button>\n",
              "      \n",
              "  <style>\n",
              "    .colab-df-container {\n",
              "      display:flex;\n",
              "      flex-wrap:wrap;\n",
              "      gap: 12px;\n",
              "    }\n",
              "\n",
              "    .colab-df-convert {\n",
              "      background-color: #E8F0FE;\n",
              "      border: none;\n",
              "      border-radius: 50%;\n",
              "      cursor: pointer;\n",
              "      display: none;\n",
              "      fill: #1967D2;\n",
              "      height: 32px;\n",
              "      padding: 0 0 0 0;\n",
              "      width: 32px;\n",
              "    }\n",
              "\n",
              "    .colab-df-convert:hover {\n",
              "      background-color: #E2EBFA;\n",
              "      box-shadow: 0px 1px 2px rgba(60, 64, 67, 0.3), 0px 1px 3px 1px rgba(60, 64, 67, 0.15);\n",
              "      fill: #174EA6;\n",
              "    }\n",
              "\n",
              "    [theme=dark] .colab-df-convert {\n",
              "      background-color: #3B4455;\n",
              "      fill: #D2E3FC;\n",
              "    }\n",
              "\n",
              "    [theme=dark] .colab-df-convert:hover {\n",
              "      background-color: #434B5C;\n",
              "      box-shadow: 0px 1px 3px 1px rgba(0, 0, 0, 0.15);\n",
              "      filter: drop-shadow(0px 1px 2px rgba(0, 0, 0, 0.3));\n",
              "      fill: #FFFFFF;\n",
              "    }\n",
              "  </style>\n",
              "\n",
              "      <script>\n",
              "        const buttonEl =\n",
              "          document.querySelector('#df-563a4327-fed5-4199-9287-15c0cd03f669 button.colab-df-convert');\n",
              "        buttonEl.style.display =\n",
              "          google.colab.kernel.accessAllowed ? 'block' : 'none';\n",
              "\n",
              "        async function convertToInteractive(key) {\n",
              "          const element = document.querySelector('#df-563a4327-fed5-4199-9287-15c0cd03f669');\n",
              "          const dataTable =\n",
              "            await google.colab.kernel.invokeFunction('convertToInteractive',\n",
              "                                                     [key], {});\n",
              "          if (!dataTable) return;\n",
              "\n",
              "          const docLinkHtml = 'Like what you see? Visit the ' +\n",
              "            '<a target=\"_blank\" href=https://colab.research.google.com/notebooks/data_table.ipynb>data table notebook</a>'\n",
              "            + ' to learn more about interactive tables.';\n",
              "          element.innerHTML = '';\n",
              "          dataTable['output_type'] = 'display_data';\n",
              "          await google.colab.output.renderOutput(dataTable, element);\n",
              "          const docLink = document.createElement('div');\n",
              "          docLink.innerHTML = docLinkHtml;\n",
              "          element.appendChild(docLink);\n",
              "        }\n",
              "      </script>\n",
              "    </div>\n",
              "  </div>\n",
              "  "
            ]
          },
          "metadata": {},
          "execution_count": 54
        }
      ],
      "source": [
        "# Split train_test data\n",
        "\n",
        "from sklearn.model_selection import train_test_split\n",
        "X_train, X_test, y_train, y_test = train_test_split(X, y, test_size = 0.30, random_state = 3) #0.30 mns our test size is 30%; random state to(get same training set with each run) fix output on multiple runs\n",
        "X_train.head(5)"
      ]
    },
    {
      "cell_type": "markdown",
      "source": [
        "#Sampling"
      ],
      "metadata": {
        "id": "wOTEleTezNQa"
      }
    },
    {
      "cell_type": "code",
      "execution_count": 55,
      "metadata": {
        "colab": {
          "base_uri": "https://localhost:8080/"
        },
        "id": "KnTdURv9VaHX",
        "outputId": "e0b41b0a-3066-42a0-d81f-1aca8279185c"
      },
      "outputs": [
        {
          "output_type": "stream",
          "name": "stdout",
          "text": [
            "Before Sampling:\n"
          ]
        },
        {
          "output_type": "execute_result",
          "data": {
            "text/plain": [
              "0    85520\n",
              "1    65187\n",
              "Name: Ad_Supported, dtype: int64"
            ]
          },
          "metadata": {},
          "execution_count": 55
        }
      ],
      "source": [
        "#Summarize class distribution\n",
        "\n",
        "print(\"Before Sampling:\")\n",
        "y_train.value_counts()"
      ]
    },
    {
      "cell_type": "markdown",
      "metadata": {
        "id": "UAcol_dSa-ij"
      },
      "source": [
        "##installing pip"
      ]
    },
    {
      "cell_type": "code",
      "execution_count": 56,
      "metadata": {
        "colab": {
          "base_uri": "https://localhost:8080/"
        },
        "id": "0BMEY7nIVaEk",
        "outputId": "4a11754a-01c9-408f-9d53-2bbc960ab0fe"
      },
      "outputs": [
        {
          "output_type": "stream",
          "name": "stdout",
          "text": [
            "Requirement already satisfied: imblearn in /usr/local/lib/python3.7/dist-packages (0.0)\n",
            "Requirement already satisfied: imbalanced-learn in /usr/local/lib/python3.7/dist-packages (from imblearn) (0.8.1)\n",
            "Requirement already satisfied: joblib>=0.11 in /usr/local/lib/python3.7/dist-packages (from imbalanced-learn->imblearn) (1.1.0)\n",
            "Requirement already satisfied: scikit-learn>=0.24 in /usr/local/lib/python3.7/dist-packages (from imbalanced-learn->imblearn) (1.0.2)\n",
            "Requirement already satisfied: numpy>=1.13.3 in /usr/local/lib/python3.7/dist-packages (from imbalanced-learn->imblearn) (1.21.5)\n",
            "Requirement already satisfied: scipy>=0.19.1 in /usr/local/lib/python3.7/dist-packages (from imbalanced-learn->imblearn) (1.4.1)\n",
            "Requirement already satisfied: threadpoolctl>=2.0.0 in /usr/local/lib/python3.7/dist-packages (from scikit-learn>=0.24->imbalanced-learn->imblearn) (3.1.0)\n"
          ]
        }
      ],
      "source": [
        "!pip install imblearn # for re-sampling or dealing with imbalanced classes"
      ]
    },
    {
      "cell_type": "markdown",
      "source": [
        "#SMOTE(synthetic minority oversampling technique)"
      ],
      "metadata": {
        "id": "Y7rIJEPl4whB"
      }
    },
    {
      "cell_type": "code",
      "source": [
        "#iMPORTING SMOTE\n",
        "from imblearn.over_sampling import SMOTE\n",
        "SMOTE=SMOTE()"
      ],
      "metadata": {
        "id": "2yL4jcRs1l7E"
      },
      "execution_count": 57,
      "outputs": []
    },
    {
      "cell_type": "code",
      "source": [
        "# fit and apply the transform\n",
        "X_train_SMOTE, y_train_SMOTE = SMOTE.fit_resample(X_train, y_train)"
      ],
      "metadata": {
        "id": "8Q8bZJXR1zuH"
      },
      "execution_count": 58,
      "outputs": []
    },
    {
      "cell_type": "code",
      "source": [
        "print(\"after SMOTE\")\n",
        "y_train_SMOTE.value_counts()"
      ],
      "metadata": {
        "colab": {
          "base_uri": "https://localhost:8080/"
        },
        "id": "GFThOLq717yX",
        "outputId": "df52bd1a-d07c-46cb-bf2b-8165b0320bdf"
      },
      "execution_count": 59,
      "outputs": [
        {
          "output_type": "stream",
          "name": "stdout",
          "text": [
            "after SMOTE\n"
          ]
        },
        {
          "output_type": "execute_result",
          "data": {
            "text/plain": [
              "0    85520\n",
              "1    85520\n",
              "Name: Ad_Supported, dtype: int64"
            ]
          },
          "metadata": {},
          "execution_count": 59
        }
      ]
    },
    {
      "cell_type": "code",
      "source": [
        "y_train_SMOTE.duplicated().sum()"
      ],
      "metadata": {
        "colab": {
          "base_uri": "https://localhost:8080/"
        },
        "id": "5fEDQUA8JvwX",
        "outputId": "4149f2c0-d08c-4140-a21c-de3fd45a8a48"
      },
      "execution_count": 60,
      "outputs": [
        {
          "output_type": "execute_result",
          "data": {
            "text/plain": [
              "171038"
            ]
          },
          "metadata": {},
          "execution_count": 60
        }
      ]
    },
    {
      "cell_type": "code",
      "source": [
        "y_train_SMOTE.drop_duplicates().sum()"
      ],
      "metadata": {
        "colab": {
          "base_uri": "https://localhost:8080/"
        },
        "id": "ZZW2Vj_vJ5BH",
        "outputId": "f9b9f4c6-f275-45f0-8d69-e3277c6d7792"
      },
      "execution_count": 61,
      "outputs": [
        {
          "output_type": "execute_result",
          "data": {
            "text/plain": [
              "1"
            ]
          },
          "metadata": {},
          "execution_count": 61
        }
      ]
    },
    {
      "cell_type": "markdown",
      "source": [
        "#Building classification models."
      ],
      "metadata": {
        "id": "JhWbhfp50E-1"
      }
    },
    {
      "cell_type": "markdown",
      "source": [
        "##logisticRegression :- it is a machine learning classification algorithm that is used tp predict the probability of a categorical dependent variable."
      ],
      "metadata": {
        "id": "vVltK6uGhwT-"
      }
    },
    {
      "cell_type": "code",
      "execution_count": 62,
      "metadata": {
        "colab": {
          "base_uri": "https://localhost:8080/"
        },
        "id": "APVZEEBrrh7C",
        "outputId": "333d3b2b-ac14-4015-8563-c24e909433c2"
      },
      "outputs": [
        {
          "output_type": "stream",
          "name": "stdout",
          "text": [
            "Accuracy of Logistic Regression : 59.334262269701185\n"
          ]
        }
      ],
      "source": [
        "#logisticRegression\n",
        "from sklearn.linear_model import LogisticRegression\n",
        "from sklearn.metrics import accuracy_score\n",
        "\n",
        "model = LogisticRegression()\n",
        "model.fit(X_train_SMOTE, y_train_SMOTE)\n",
        "pred_log = model.predict(X_test)\n",
        "logistic_acc = accuracy_score(y_test, pred_log)*100\n",
        "print(\"Accuracy of Logistic Regression :\", logistic_acc)"
      ]
    },
    {
      "cell_type": "code",
      "execution_count": 63,
      "metadata": {
        "colab": {
          "base_uri": "https://localhost:8080/"
        },
        "id": "DF3XZCMdrh4n",
        "outputId": "70fe9d4a-24b1-49be-a1a1-d74a55f09529"
      },
      "outputs": [
        {
          "output_type": "stream",
          "name": "stdout",
          "text": [
            "Accuracy of KNN: 54.91716984053259\n"
          ]
        }
      ],
      "source": [
        "#KNN model\n",
        "\n",
        "from sklearn.neighbors import KNeighborsClassifier\n",
        "\n",
        "#fit the model\n",
        "knn = KNeighborsClassifier()\n",
        "knn.fit(X_train_SMOTE, y_train_SMOTE)\n",
        "pred_k = knn.predict(X_test)\n",
        "knn_acc = accuracy_score(y_test, pred_k)*100\n",
        "print(\"Accuracy of KNN:\", knn_acc)"
      ]
    },
    {
      "cell_type": "code",
      "execution_count": 64,
      "metadata": {
        "colab": {
          "base_uri": "https://localhost:8080/"
        },
        "id": "D3XLbiKW1Thn",
        "outputId": "d7e4137a-f2fd-47d7-cb86-79222685413b"
      },
      "outputs": [
        {
          "output_type": "stream",
          "name": "stdout",
          "text": [
            "Accuracy of RFC: 56.88032203127419\n"
          ]
        }
      ],
      "source": [
        "# Random ForestClassifier\n",
        "\n",
        "from sklearn.ensemble import RandomForestClassifier\n",
        "\n",
        "#fitting model\n",
        "rfc = RandomForestClassifier()\n",
        "rfc.fit(X_train_SMOTE, y_train_SMOTE)\n",
        "pred_rfc = rfc.predict(X_test)\n",
        "rfc_acc = accuracy_score(y_test, pred_rfc)*100\n",
        "print(\"Accuracy of RFC:\", rfc_acc)"
      ]
    },
    {
      "cell_type": "code",
      "source": [
        "# Naive bayes model(Naive Bayes is a machine learning algorithm we use to solve classification problems.)\n",
        "\n",
        "from sklearn.naive_bayes import GaussianNB\n",
        "\n",
        "# Fit the model\n",
        "model=GaussianNB()\n",
        "gnb = model.fit(X_train_SMOTE, y_train_SMOTE)\n",
        "gnb_predict = gnb.predict(X_test)\n",
        "gnb_acc = accuracy_score(y_test, gnb_predict)*100\n",
        "print(\"Accuracy of GNB:\", gnb_acc)"
      ],
      "metadata": {
        "colab": {
          "base_uri": "https://localhost:8080/"
        },
        "id": "SRgE9Jrfch8H",
        "outputId": "f2365ff4-6a6d-46fa-f950-a96c04f6a282"
      },
      "execution_count": 65,
      "outputs": [
        {
          "output_type": "stream",
          "name": "stdout",
          "text": [
            "Accuracy of GNB: 59.09893172317696\n"
          ]
        }
      ]
    },
    {
      "cell_type": "markdown",
      "source": [
        "By comparing all the above models we get LogisticRegression as best with model for our dataset with 59.22 accuracy"
      ],
      "metadata": {
        "id": "0Hd_28XNlmXt"
      }
    },
    {
      "cell_type": "markdown",
      "source": [
        "#COMPARING ACCURACIES"
      ],
      "metadata": {
        "id": "l0oFz2BbfNzr"
      }
    },
    {
      "cell_type": "code",
      "source": [
        "labels = [\"Logistic Regression\", \"knn\", \"Naive Bayes\", \"Random Forest\"]\n",
        "x = [logistic_acc, knn_acc, gnb_acc, rfc_acc]\n",
        "eval_frame = pd.DataFrame()\n",
        "eval_frame['Model'] = labels\n",
        "eval_frame['train_test_split'] = x\n",
        "eval_frame"
      ],
      "metadata": {
        "colab": {
          "base_uri": "https://localhost:8080/",
          "height": 175
        },
        "id": "5i-wWZ2xeE8-",
        "outputId": "ad9a3522-b8b8-4ac6-a1f3-4476fbf18ac6"
      },
      "execution_count": 66,
      "outputs": [
        {
          "output_type": "execute_result",
          "data": {
            "text/plain": [
              "                 Model  train_test_split\n",
              "0  Logistic Regression         59.334262\n",
              "1                  knn         54.917170\n",
              "2          Naive Bayes         59.098932\n",
              "3        Random Forest         56.880322"
            ],
            "text/html": [
              "\n",
              "  <div id=\"df-b1f7aa0f-09b3-4260-8bf6-1efd0301c005\">\n",
              "    <div class=\"colab-df-container\">\n",
              "      <div>\n",
              "<style scoped>\n",
              "    .dataframe tbody tr th:only-of-type {\n",
              "        vertical-align: middle;\n",
              "    }\n",
              "\n",
              "    .dataframe tbody tr th {\n",
              "        vertical-align: top;\n",
              "    }\n",
              "\n",
              "    .dataframe thead th {\n",
              "        text-align: right;\n",
              "    }\n",
              "</style>\n",
              "<table border=\"1\" class=\"dataframe\">\n",
              "  <thead>\n",
              "    <tr style=\"text-align: right;\">\n",
              "      <th></th>\n",
              "      <th>Model</th>\n",
              "      <th>train_test_split</th>\n",
              "    </tr>\n",
              "  </thead>\n",
              "  <tbody>\n",
              "    <tr>\n",
              "      <th>0</th>\n",
              "      <td>Logistic Regression</td>\n",
              "      <td>59.334262</td>\n",
              "    </tr>\n",
              "    <tr>\n",
              "      <th>1</th>\n",
              "      <td>knn</td>\n",
              "      <td>54.917170</td>\n",
              "    </tr>\n",
              "    <tr>\n",
              "      <th>2</th>\n",
              "      <td>Naive Bayes</td>\n",
              "      <td>59.098932</td>\n",
              "    </tr>\n",
              "    <tr>\n",
              "      <th>3</th>\n",
              "      <td>Random Forest</td>\n",
              "      <td>56.880322</td>\n",
              "    </tr>\n",
              "  </tbody>\n",
              "</table>\n",
              "</div>\n",
              "      <button class=\"colab-df-convert\" onclick=\"convertToInteractive('df-b1f7aa0f-09b3-4260-8bf6-1efd0301c005')\"\n",
              "              title=\"Convert this dataframe to an interactive table.\"\n",
              "              style=\"display:none;\">\n",
              "        \n",
              "  <svg xmlns=\"http://www.w3.org/2000/svg\" height=\"24px\"viewBox=\"0 0 24 24\"\n",
              "       width=\"24px\">\n",
              "    <path d=\"M0 0h24v24H0V0z\" fill=\"none\"/>\n",
              "    <path d=\"M18.56 5.44l.94 2.06.94-2.06 2.06-.94-2.06-.94-.94-2.06-.94 2.06-2.06.94zm-11 1L8.5 8.5l.94-2.06 2.06-.94-2.06-.94L8.5 2.5l-.94 2.06-2.06.94zm10 10l.94 2.06.94-2.06 2.06-.94-2.06-.94-.94-2.06-.94 2.06-2.06.94z\"/><path d=\"M17.41 7.96l-1.37-1.37c-.4-.4-.92-.59-1.43-.59-.52 0-1.04.2-1.43.59L10.3 9.45l-7.72 7.72c-.78.78-.78 2.05 0 2.83L4 21.41c.39.39.9.59 1.41.59.51 0 1.02-.2 1.41-.59l7.78-7.78 2.81-2.81c.8-.78.8-2.07 0-2.86zM5.41 20L4 18.59l7.72-7.72 1.47 1.35L5.41 20z\"/>\n",
              "  </svg>\n",
              "      </button>\n",
              "      \n",
              "  <style>\n",
              "    .colab-df-container {\n",
              "      display:flex;\n",
              "      flex-wrap:wrap;\n",
              "      gap: 12px;\n",
              "    }\n",
              "\n",
              "    .colab-df-convert {\n",
              "      background-color: #E8F0FE;\n",
              "      border: none;\n",
              "      border-radius: 50%;\n",
              "      cursor: pointer;\n",
              "      display: none;\n",
              "      fill: #1967D2;\n",
              "      height: 32px;\n",
              "      padding: 0 0 0 0;\n",
              "      width: 32px;\n",
              "    }\n",
              "\n",
              "    .colab-df-convert:hover {\n",
              "      background-color: #E2EBFA;\n",
              "      box-shadow: 0px 1px 2px rgba(60, 64, 67, 0.3), 0px 1px 3px 1px rgba(60, 64, 67, 0.15);\n",
              "      fill: #174EA6;\n",
              "    }\n",
              "\n",
              "    [theme=dark] .colab-df-convert {\n",
              "      background-color: #3B4455;\n",
              "      fill: #D2E3FC;\n",
              "    }\n",
              "\n",
              "    [theme=dark] .colab-df-convert:hover {\n",
              "      background-color: #434B5C;\n",
              "      box-shadow: 0px 1px 3px 1px rgba(0, 0, 0, 0.15);\n",
              "      filter: drop-shadow(0px 1px 2px rgba(0, 0, 0, 0.3));\n",
              "      fill: #FFFFFF;\n",
              "    }\n",
              "  </style>\n",
              "\n",
              "      <script>\n",
              "        const buttonEl =\n",
              "          document.querySelector('#df-b1f7aa0f-09b3-4260-8bf6-1efd0301c005 button.colab-df-convert');\n",
              "        buttonEl.style.display =\n",
              "          google.colab.kernel.accessAllowed ? 'block' : 'none';\n",
              "\n",
              "        async function convertToInteractive(key) {\n",
              "          const element = document.querySelector('#df-b1f7aa0f-09b3-4260-8bf6-1efd0301c005');\n",
              "          const dataTable =\n",
              "            await google.colab.kernel.invokeFunction('convertToInteractive',\n",
              "                                                     [key], {});\n",
              "          if (!dataTable) return;\n",
              "\n",
              "          const docLinkHtml = 'Like what you see? Visit the ' +\n",
              "            '<a target=\"_blank\" href=https://colab.research.google.com/notebooks/data_table.ipynb>data table notebook</a>'\n",
              "            + ' to learn more about interactive tables.';\n",
              "          element.innerHTML = '';\n",
              "          dataTable['output_type'] = 'display_data';\n",
              "          await google.colab.output.renderOutput(dataTable, element);\n",
              "          const docLink = document.createElement('div');\n",
              "          docLink.innerHTML = docLinkHtml;\n",
              "          element.appendChild(docLink);\n",
              "        }\n",
              "      </script>\n",
              "    </div>\n",
              "  </div>\n",
              "  "
            ]
          },
          "metadata": {},
          "execution_count": 66
        }
      ]
    },
    {
      "cell_type": "markdown",
      "source": [
        "K-FOLD CROSS VALIDATION\n",
        "(In K-fold Cross-Validation, the training set is randomly split into K (usually between 5 to 10) subsets known as folds. Where K-1 folds are used to train the model and the other fold is used to test the model."
      ],
      "metadata": {
        "id": "Tnz_kee3fap1"
      }
    },
    {
      "cell_type": "code",
      "source": [
        "from sklearn.model_selection import KFold"
      ],
      "metadata": {
        "id": "VVGEDzl9fdUj"
      },
      "execution_count": 67,
      "outputs": []
    },
    {
      "cell_type": "code",
      "source": [
        "kfold = KFold(n_splits = 5)"
      ],
      "metadata": {
        "id": "-P3Wu2YbfdRz"
      },
      "execution_count": 68,
      "outputs": []
    },
    {
      "cell_type": "code",
      "source": [
        "#Modeling step test differents algorithms\n",
        "\n",
        "classifiers1 = []\n",
        "\n",
        "classifiers1.append(KNeighborsClassifier())\n",
        "classifiers1.append(LogisticRegression())\n",
        "classifiers1.append(GaussianNB())\n",
        "classifiers1.append(RandomForestClassifier())"
      ],
      "metadata": {
        "id": "5UgUpBlYfdPN"
      },
      "execution_count": 69,
      "outputs": []
    },
    {
      "cell_type": "code",
      "source": [
        "from sklearn.model_selection import cross_val_score"
      ],
      "metadata": {
        "id": "m9w0nHh-fdMa"
      },
      "execution_count": 70,
      "outputs": []
    },
    {
      "cell_type": "code",
      "source": [
        "accuracy_results1 = []\n",
        "for a in classifiers1:\n",
        "  accuracy_results1.append(cross_val_score(a, X_train_SMOTE, y_train_SMOTE, scoring = \"accuracy\", cv = kfold))#Here a is 1st model logistic"
      ],
      "metadata": {
        "id": "joG3uhRgfdJn"
      },
      "execution_count": 71,
      "outputs": []
    },
    {
      "cell_type": "code",
      "source": [
        "#folds corresponding to models\n",
        "accuracy_results1"
      ],
      "metadata": {
        "colab": {
          "base_uri": "https://localhost:8080/"
        },
        "id": "5EtC421Cgnl6",
        "outputId": "52b4a36f-7df3-4e96-bc0b-b3011759b1e7"
      },
      "execution_count": 72,
      "outputs": [
        {
          "output_type": "execute_result",
          "data": {
            "text/plain": [
              "[array([0.54405402, 0.5505145 , 0.55411015, 0.55460711, 0.4830449 ]),\n",
              " array([0.58807881, 0.58781572, 0.5913529 , 0.58997895, 0.35447848]),\n",
              " array([0.58772802, 0.58819574, 0.59228835, 0.5915283 , 0.33585711]),\n",
              " array([0.5625    , 0.5650725 , 0.56606642, 0.56790809, 0.4227666 ])]"
            ]
          },
          "metadata": {},
          "execution_count": 72
        }
      ]
    },
    {
      "cell_type": "code",
      "source": [
        "accuracy_means1 = []\n",
        "for e in accuracy_results1:\n",
        "  accuracy_means1.append(e.mean()*100)"
      ],
      "metadata": {
        "id": "7fqM-LyTgvu0"
      },
      "execution_count": 73,
      "outputs": []
    },
    {
      "cell_type": "code",
      "source": [
        "accuracy_means1"
      ],
      "metadata": {
        "colab": {
          "base_uri": "https://localhost:8080/"
        },
        "id": "DRxx4NV9g2GK",
        "outputId": "baa46a23-6f3d-43bd-dc14-f9224e5767bb"
      },
      "execution_count": 74,
      "outputs": [
        {
          "output_type": "execute_result",
          "data": {
            "text/plain": [
              "[53.72661365762396, 54.23409728718429, 53.91195042095417, 53.68627221702524]"
            ]
          },
          "metadata": {},
          "execution_count": 74
        }
      ]
    },
    {
      "cell_type": "code",
      "source": [
        "eval_frame['kfolds_5'] = accuracy_means1\n",
        "eval_frame"
      ],
      "metadata": {
        "colab": {
          "base_uri": "https://localhost:8080/",
          "height": 175
        },
        "id": "GWmdLhszg6SZ",
        "outputId": "f41e7ed3-9243-40f3-ee32-1c5fd53bf264"
      },
      "execution_count": 75,
      "outputs": [
        {
          "output_type": "execute_result",
          "data": {
            "text/plain": [
              "                 Model  train_test_split   kfolds_5\n",
              "0  Logistic Regression         59.334262  53.726614\n",
              "1                  knn         54.917170  54.234097\n",
              "2          Naive Bayes         59.098932  53.911950\n",
              "3        Random Forest         56.880322  53.686272"
            ],
            "text/html": [
              "\n",
              "  <div id=\"df-64a7cff2-c66e-4a4e-9cfc-1460688bb33d\">\n",
              "    <div class=\"colab-df-container\">\n",
              "      <div>\n",
              "<style scoped>\n",
              "    .dataframe tbody tr th:only-of-type {\n",
              "        vertical-align: middle;\n",
              "    }\n",
              "\n",
              "    .dataframe tbody tr th {\n",
              "        vertical-align: top;\n",
              "    }\n",
              "\n",
              "    .dataframe thead th {\n",
              "        text-align: right;\n",
              "    }\n",
              "</style>\n",
              "<table border=\"1\" class=\"dataframe\">\n",
              "  <thead>\n",
              "    <tr style=\"text-align: right;\">\n",
              "      <th></th>\n",
              "      <th>Model</th>\n",
              "      <th>train_test_split</th>\n",
              "      <th>kfolds_5</th>\n",
              "    </tr>\n",
              "  </thead>\n",
              "  <tbody>\n",
              "    <tr>\n",
              "      <th>0</th>\n",
              "      <td>Logistic Regression</td>\n",
              "      <td>59.334262</td>\n",
              "      <td>53.726614</td>\n",
              "    </tr>\n",
              "    <tr>\n",
              "      <th>1</th>\n",
              "      <td>knn</td>\n",
              "      <td>54.917170</td>\n",
              "      <td>54.234097</td>\n",
              "    </tr>\n",
              "    <tr>\n",
              "      <th>2</th>\n",
              "      <td>Naive Bayes</td>\n",
              "      <td>59.098932</td>\n",
              "      <td>53.911950</td>\n",
              "    </tr>\n",
              "    <tr>\n",
              "      <th>3</th>\n",
              "      <td>Random Forest</td>\n",
              "      <td>56.880322</td>\n",
              "      <td>53.686272</td>\n",
              "    </tr>\n",
              "  </tbody>\n",
              "</table>\n",
              "</div>\n",
              "      <button class=\"colab-df-convert\" onclick=\"convertToInteractive('df-64a7cff2-c66e-4a4e-9cfc-1460688bb33d')\"\n",
              "              title=\"Convert this dataframe to an interactive table.\"\n",
              "              style=\"display:none;\">\n",
              "        \n",
              "  <svg xmlns=\"http://www.w3.org/2000/svg\" height=\"24px\"viewBox=\"0 0 24 24\"\n",
              "       width=\"24px\">\n",
              "    <path d=\"M0 0h24v24H0V0z\" fill=\"none\"/>\n",
              "    <path d=\"M18.56 5.44l.94 2.06.94-2.06 2.06-.94-2.06-.94-.94-2.06-.94 2.06-2.06.94zm-11 1L8.5 8.5l.94-2.06 2.06-.94-2.06-.94L8.5 2.5l-.94 2.06-2.06.94zm10 10l.94 2.06.94-2.06 2.06-.94-2.06-.94-.94-2.06-.94 2.06-2.06.94z\"/><path d=\"M17.41 7.96l-1.37-1.37c-.4-.4-.92-.59-1.43-.59-.52 0-1.04.2-1.43.59L10.3 9.45l-7.72 7.72c-.78.78-.78 2.05 0 2.83L4 21.41c.39.39.9.59 1.41.59.51 0 1.02-.2 1.41-.59l7.78-7.78 2.81-2.81c.8-.78.8-2.07 0-2.86zM5.41 20L4 18.59l7.72-7.72 1.47 1.35L5.41 20z\"/>\n",
              "  </svg>\n",
              "      </button>\n",
              "      \n",
              "  <style>\n",
              "    .colab-df-container {\n",
              "      display:flex;\n",
              "      flex-wrap:wrap;\n",
              "      gap: 12px;\n",
              "    }\n",
              "\n",
              "    .colab-df-convert {\n",
              "      background-color: #E8F0FE;\n",
              "      border: none;\n",
              "      border-radius: 50%;\n",
              "      cursor: pointer;\n",
              "      display: none;\n",
              "      fill: #1967D2;\n",
              "      height: 32px;\n",
              "      padding: 0 0 0 0;\n",
              "      width: 32px;\n",
              "    }\n",
              "\n",
              "    .colab-df-convert:hover {\n",
              "      background-color: #E2EBFA;\n",
              "      box-shadow: 0px 1px 2px rgba(60, 64, 67, 0.3), 0px 1px 3px 1px rgba(60, 64, 67, 0.15);\n",
              "      fill: #174EA6;\n",
              "    }\n",
              "\n",
              "    [theme=dark] .colab-df-convert {\n",
              "      background-color: #3B4455;\n",
              "      fill: #D2E3FC;\n",
              "    }\n",
              "\n",
              "    [theme=dark] .colab-df-convert:hover {\n",
              "      background-color: #434B5C;\n",
              "      box-shadow: 0px 1px 3px 1px rgba(0, 0, 0, 0.15);\n",
              "      filter: drop-shadow(0px 1px 2px rgba(0, 0, 0, 0.3));\n",
              "      fill: #FFFFFF;\n",
              "    }\n",
              "  </style>\n",
              "\n",
              "      <script>\n",
              "        const buttonEl =\n",
              "          document.querySelector('#df-64a7cff2-c66e-4a4e-9cfc-1460688bb33d button.colab-df-convert');\n",
              "        buttonEl.style.display =\n",
              "          google.colab.kernel.accessAllowed ? 'block' : 'none';\n",
              "\n",
              "        async function convertToInteractive(key) {\n",
              "          const element = document.querySelector('#df-64a7cff2-c66e-4a4e-9cfc-1460688bb33d');\n",
              "          const dataTable =\n",
              "            await google.colab.kernel.invokeFunction('convertToInteractive',\n",
              "                                                     [key], {});\n",
              "          if (!dataTable) return;\n",
              "\n",
              "          const docLinkHtml = 'Like what you see? Visit the ' +\n",
              "            '<a target=\"_blank\" href=https://colab.research.google.com/notebooks/data_table.ipynb>data table notebook</a>'\n",
              "            + ' to learn more about interactive tables.';\n",
              "          element.innerHTML = '';\n",
              "          dataTable['output_type'] = 'display_data';\n",
              "          await google.colab.output.renderOutput(dataTable, element);\n",
              "          const docLink = document.createElement('div');\n",
              "          docLink.innerHTML = docLinkHtml;\n",
              "          element.appendChild(docLink);\n",
              "        }\n",
              "      </script>\n",
              "    </div>\n",
              "  </div>\n",
              "  "
            ]
          },
          "metadata": {},
          "execution_count": 75
        }
      ]
    },
    {
      "cell_type": "markdown",
      "source": [
        ""
      ],
      "metadata": {
        "id": "ruDOSYODkhvM"
      }
    },
    {
      "cell_type": "markdown",
      "source": [
        "#STRATIFIED K FOLD(Stratified k-fold means that you also look at the relative distribution of your classes: if one class/label appears more often than another, stratified k-fold will make sure to represent that imbalance when it creates batches.)"
      ],
      "metadata": {
        "id": "nGOvortuhDGu"
      }
    },
    {
      "cell_type": "code",
      "source": [
        "from sklearn.model_selection import StratifiedKFold"
      ],
      "metadata": {
        "id": "neVUgPJOhFDJ"
      },
      "execution_count": 76,
      "outputs": []
    },
    {
      "cell_type": "code",
      "source": [
        "Stratifiedkfold = StratifiedKFold(n_splits = 5)"
      ],
      "metadata": {
        "id": "Wo8wOM0OhNPH"
      },
      "execution_count": 77,
      "outputs": []
    },
    {
      "cell_type": "code",
      "source": [
        "# Modeling step Test differents algorithms \n",
        "classifiers_4 = []\n",
        "classifiers_4.append(KNeighborsClassifier())\n",
        "classifiers_4.append(LogisticRegression())\n",
        "classifiers_4.append(GaussianNB())\n",
        "classifiers_4.append(RandomForestClassifier())\n",
        "accuracy_results_4 = []\n",
        "for classifier in classifiers_4 :\n",
        "    accuracy_results_4.append(cross_val_score(classifier, X_train_SMOTE,y_train_SMOTE, scoring = \"accuracy\", cv = Stratifiedkfold))\n",
        "accuracy_means_4 = []\n",
        "for accuracy_result in accuracy_results_4:\n",
        "    accuracy_means_4.append(accuracy_result.mean()*100)\n",
        "accuracy_means_4\n",
        "eval_frame['Stratifiedkfold_5']=accuracy_means_4\n",
        "eval_frame"
      ],
      "metadata": {
        "colab": {
          "base_uri": "https://localhost:8080/",
          "height": 175
        },
        "id": "TJfG8q4phNL9",
        "outputId": "fd17b01c-0a44-49de-ca50-3d16128891e5"
      },
      "execution_count": 78,
      "outputs": [
        {
          "output_type": "execute_result",
          "data": {
            "text/plain": [
              "                 Model  train_test_split   kfolds_5  Stratifiedkfold_5\n",
              "0  Logistic Regression         59.334262  53.726614          53.910196\n",
              "1                  knn         54.917170  54.234097          55.985150\n",
              "2          Naive Bayes         59.098932  53.911950          54.437558\n",
              "3        Random Forest         56.880322  53.686272          55.816183"
            ],
            "text/html": [
              "\n",
              "  <div id=\"df-62aef043-a93c-4e63-bfe3-09aada1f497f\">\n",
              "    <div class=\"colab-df-container\">\n",
              "      <div>\n",
              "<style scoped>\n",
              "    .dataframe tbody tr th:only-of-type {\n",
              "        vertical-align: middle;\n",
              "    }\n",
              "\n",
              "    .dataframe tbody tr th {\n",
              "        vertical-align: top;\n",
              "    }\n",
              "\n",
              "    .dataframe thead th {\n",
              "        text-align: right;\n",
              "    }\n",
              "</style>\n",
              "<table border=\"1\" class=\"dataframe\">\n",
              "  <thead>\n",
              "    <tr style=\"text-align: right;\">\n",
              "      <th></th>\n",
              "      <th>Model</th>\n",
              "      <th>train_test_split</th>\n",
              "      <th>kfolds_5</th>\n",
              "      <th>Stratifiedkfold_5</th>\n",
              "    </tr>\n",
              "  </thead>\n",
              "  <tbody>\n",
              "    <tr>\n",
              "      <th>0</th>\n",
              "      <td>Logistic Regression</td>\n",
              "      <td>59.334262</td>\n",
              "      <td>53.726614</td>\n",
              "      <td>53.910196</td>\n",
              "    </tr>\n",
              "    <tr>\n",
              "      <th>1</th>\n",
              "      <td>knn</td>\n",
              "      <td>54.917170</td>\n",
              "      <td>54.234097</td>\n",
              "      <td>55.985150</td>\n",
              "    </tr>\n",
              "    <tr>\n",
              "      <th>2</th>\n",
              "      <td>Naive Bayes</td>\n",
              "      <td>59.098932</td>\n",
              "      <td>53.911950</td>\n",
              "      <td>54.437558</td>\n",
              "    </tr>\n",
              "    <tr>\n",
              "      <th>3</th>\n",
              "      <td>Random Forest</td>\n",
              "      <td>56.880322</td>\n",
              "      <td>53.686272</td>\n",
              "      <td>55.816183</td>\n",
              "    </tr>\n",
              "  </tbody>\n",
              "</table>\n",
              "</div>\n",
              "      <button class=\"colab-df-convert\" onclick=\"convertToInteractive('df-62aef043-a93c-4e63-bfe3-09aada1f497f')\"\n",
              "              title=\"Convert this dataframe to an interactive table.\"\n",
              "              style=\"display:none;\">\n",
              "        \n",
              "  <svg xmlns=\"http://www.w3.org/2000/svg\" height=\"24px\"viewBox=\"0 0 24 24\"\n",
              "       width=\"24px\">\n",
              "    <path d=\"M0 0h24v24H0V0z\" fill=\"none\"/>\n",
              "    <path d=\"M18.56 5.44l.94 2.06.94-2.06 2.06-.94-2.06-.94-.94-2.06-.94 2.06-2.06.94zm-11 1L8.5 8.5l.94-2.06 2.06-.94-2.06-.94L8.5 2.5l-.94 2.06-2.06.94zm10 10l.94 2.06.94-2.06 2.06-.94-2.06-.94-.94-2.06-.94 2.06-2.06.94z\"/><path d=\"M17.41 7.96l-1.37-1.37c-.4-.4-.92-.59-1.43-.59-.52 0-1.04.2-1.43.59L10.3 9.45l-7.72 7.72c-.78.78-.78 2.05 0 2.83L4 21.41c.39.39.9.59 1.41.59.51 0 1.02-.2 1.41-.59l7.78-7.78 2.81-2.81c.8-.78.8-2.07 0-2.86zM5.41 20L4 18.59l7.72-7.72 1.47 1.35L5.41 20z\"/>\n",
              "  </svg>\n",
              "      </button>\n",
              "      \n",
              "  <style>\n",
              "    .colab-df-container {\n",
              "      display:flex;\n",
              "      flex-wrap:wrap;\n",
              "      gap: 12px;\n",
              "    }\n",
              "\n",
              "    .colab-df-convert {\n",
              "      background-color: #E8F0FE;\n",
              "      border: none;\n",
              "      border-radius: 50%;\n",
              "      cursor: pointer;\n",
              "      display: none;\n",
              "      fill: #1967D2;\n",
              "      height: 32px;\n",
              "      padding: 0 0 0 0;\n",
              "      width: 32px;\n",
              "    }\n",
              "\n",
              "    .colab-df-convert:hover {\n",
              "      background-color: #E2EBFA;\n",
              "      box-shadow: 0px 1px 2px rgba(60, 64, 67, 0.3), 0px 1px 3px 1px rgba(60, 64, 67, 0.15);\n",
              "      fill: #174EA6;\n",
              "    }\n",
              "\n",
              "    [theme=dark] .colab-df-convert {\n",
              "      background-color: #3B4455;\n",
              "      fill: #D2E3FC;\n",
              "    }\n",
              "\n",
              "    [theme=dark] .colab-df-convert:hover {\n",
              "      background-color: #434B5C;\n",
              "      box-shadow: 0px 1px 3px 1px rgba(0, 0, 0, 0.15);\n",
              "      filter: drop-shadow(0px 1px 2px rgba(0, 0, 0, 0.3));\n",
              "      fill: #FFFFFF;\n",
              "    }\n",
              "  </style>\n",
              "\n",
              "      <script>\n",
              "        const buttonEl =\n",
              "          document.querySelector('#df-62aef043-a93c-4e63-bfe3-09aada1f497f button.colab-df-convert');\n",
              "        buttonEl.style.display =\n",
              "          google.colab.kernel.accessAllowed ? 'block' : 'none';\n",
              "\n",
              "        async function convertToInteractive(key) {\n",
              "          const element = document.querySelector('#df-62aef043-a93c-4e63-bfe3-09aada1f497f');\n",
              "          const dataTable =\n",
              "            await google.colab.kernel.invokeFunction('convertToInteractive',\n",
              "                                                     [key], {});\n",
              "          if (!dataTable) return;\n",
              "\n",
              "          const docLinkHtml = 'Like what you see? Visit the ' +\n",
              "            '<a target=\"_blank\" href=https://colab.research.google.com/notebooks/data_table.ipynb>data table notebook</a>'\n",
              "            + ' to learn more about interactive tables.';\n",
              "          element.innerHTML = '';\n",
              "          dataTable['output_type'] = 'display_data';\n",
              "          await google.colab.output.renderOutput(dataTable, element);\n",
              "          const docLink = document.createElement('div');\n",
              "          docLink.innerHTML = docLinkHtml;\n",
              "          element.appendChild(docLink);\n",
              "        }\n",
              "      </script>\n",
              "    </div>\n",
              "  </div>\n",
              "  "
            ]
          },
          "metadata": {},
          "execution_count": 78
        }
      ]
    },
    {
      "cell_type": "code",
      "source": [
        "from sklearn.model_selection import ShuffleSplit"
      ],
      "metadata": {
        "id": "p5Ck4NGdhNIq"
      },
      "execution_count": 79,
      "outputs": []
    },
    {
      "cell_type": "code",
      "source": [
        "kfold = ShuffleSplit(n_splits=5,test_size=0.3)\n",
        "# Modeling step Test differents algorithms \n",
        "classifiers_2 = []\n",
        "classifiers_2.append(KNeighborsClassifier())\n",
        "classifiers_2.append(LogisticRegression())\n",
        "classifiers_2.append(GaussianNB())\n",
        "classifiers_2.append(RandomForestClassifier())\n",
        "accuracy_results_2 = []\n",
        "for classifier in classifiers_2 :\n",
        "    accuracy_results_2.append(cross_val_score(classifier, X_train,y_train, scoring = \"accuracy\", cv = kfold))\n",
        "accuracy_means_2 = []\n",
        "for accuracy_result in accuracy_results_2:\n",
        "    accuracy_means_2.append(accuracy_result.mean()*100)\n",
        "accuracy_means_2\n",
        "eval_frame['RRTestTrainSplits_5']=accuracy_means_2\n",
        "eval_frame.round(2)"
      ],
      "metadata": {
        "colab": {
          "base_uri": "https://localhost:8080/",
          "height": 175
        },
        "id": "mG6L6Cz_hNE0",
        "outputId": "02910f56-6a4c-41b8-eff0-df4444f6037f"
      },
      "execution_count": 80,
      "outputs": [
        {
          "output_type": "execute_result",
          "data": {
            "text/plain": [
              "                 Model  train_test_split  kfolds_5  Stratifiedkfold_5  \\\n",
              "0  Logistic Regression             59.33     53.73              53.91   \n",
              "1                  knn             54.92     54.23              55.99   \n",
              "2          Naive Bayes             59.10     53.91              54.44   \n",
              "3        Random Forest             56.88     53.69              55.82   \n",
              "\n",
              "   RRTestTrainSplits_5  \n",
              "0                54.39  \n",
              "1                58.60  \n",
              "2                58.58  \n",
              "3                57.66  "
            ],
            "text/html": [
              "\n",
              "  <div id=\"df-d50fd10f-4ed6-4c9a-b711-c9a2aa9a84a6\">\n",
              "    <div class=\"colab-df-container\">\n",
              "      <div>\n",
              "<style scoped>\n",
              "    .dataframe tbody tr th:only-of-type {\n",
              "        vertical-align: middle;\n",
              "    }\n",
              "\n",
              "    .dataframe tbody tr th {\n",
              "        vertical-align: top;\n",
              "    }\n",
              "\n",
              "    .dataframe thead th {\n",
              "        text-align: right;\n",
              "    }\n",
              "</style>\n",
              "<table border=\"1\" class=\"dataframe\">\n",
              "  <thead>\n",
              "    <tr style=\"text-align: right;\">\n",
              "      <th></th>\n",
              "      <th>Model</th>\n",
              "      <th>train_test_split</th>\n",
              "      <th>kfolds_5</th>\n",
              "      <th>Stratifiedkfold_5</th>\n",
              "      <th>RRTestTrainSplits_5</th>\n",
              "    </tr>\n",
              "  </thead>\n",
              "  <tbody>\n",
              "    <tr>\n",
              "      <th>0</th>\n",
              "      <td>Logistic Regression</td>\n",
              "      <td>59.33</td>\n",
              "      <td>53.73</td>\n",
              "      <td>53.91</td>\n",
              "      <td>54.39</td>\n",
              "    </tr>\n",
              "    <tr>\n",
              "      <th>1</th>\n",
              "      <td>knn</td>\n",
              "      <td>54.92</td>\n",
              "      <td>54.23</td>\n",
              "      <td>55.99</td>\n",
              "      <td>58.60</td>\n",
              "    </tr>\n",
              "    <tr>\n",
              "      <th>2</th>\n",
              "      <td>Naive Bayes</td>\n",
              "      <td>59.10</td>\n",
              "      <td>53.91</td>\n",
              "      <td>54.44</td>\n",
              "      <td>58.58</td>\n",
              "    </tr>\n",
              "    <tr>\n",
              "      <th>3</th>\n",
              "      <td>Random Forest</td>\n",
              "      <td>56.88</td>\n",
              "      <td>53.69</td>\n",
              "      <td>55.82</td>\n",
              "      <td>57.66</td>\n",
              "    </tr>\n",
              "  </tbody>\n",
              "</table>\n",
              "</div>\n",
              "      <button class=\"colab-df-convert\" onclick=\"convertToInteractive('df-d50fd10f-4ed6-4c9a-b711-c9a2aa9a84a6')\"\n",
              "              title=\"Convert this dataframe to an interactive table.\"\n",
              "              style=\"display:none;\">\n",
              "        \n",
              "  <svg xmlns=\"http://www.w3.org/2000/svg\" height=\"24px\"viewBox=\"0 0 24 24\"\n",
              "       width=\"24px\">\n",
              "    <path d=\"M0 0h24v24H0V0z\" fill=\"none\"/>\n",
              "    <path d=\"M18.56 5.44l.94 2.06.94-2.06 2.06-.94-2.06-.94-.94-2.06-.94 2.06-2.06.94zm-11 1L8.5 8.5l.94-2.06 2.06-.94-2.06-.94L8.5 2.5l-.94 2.06-2.06.94zm10 10l.94 2.06.94-2.06 2.06-.94-2.06-.94-.94-2.06-.94 2.06-2.06.94z\"/><path d=\"M17.41 7.96l-1.37-1.37c-.4-.4-.92-.59-1.43-.59-.52 0-1.04.2-1.43.59L10.3 9.45l-7.72 7.72c-.78.78-.78 2.05 0 2.83L4 21.41c.39.39.9.59 1.41.59.51 0 1.02-.2 1.41-.59l7.78-7.78 2.81-2.81c.8-.78.8-2.07 0-2.86zM5.41 20L4 18.59l7.72-7.72 1.47 1.35L5.41 20z\"/>\n",
              "  </svg>\n",
              "      </button>\n",
              "      \n",
              "  <style>\n",
              "    .colab-df-container {\n",
              "      display:flex;\n",
              "      flex-wrap:wrap;\n",
              "      gap: 12px;\n",
              "    }\n",
              "\n",
              "    .colab-df-convert {\n",
              "      background-color: #E8F0FE;\n",
              "      border: none;\n",
              "      border-radius: 50%;\n",
              "      cursor: pointer;\n",
              "      display: none;\n",
              "      fill: #1967D2;\n",
              "      height: 32px;\n",
              "      padding: 0 0 0 0;\n",
              "      width: 32px;\n",
              "    }\n",
              "\n",
              "    .colab-df-convert:hover {\n",
              "      background-color: #E2EBFA;\n",
              "      box-shadow: 0px 1px 2px rgba(60, 64, 67, 0.3), 0px 1px 3px 1px rgba(60, 64, 67, 0.15);\n",
              "      fill: #174EA6;\n",
              "    }\n",
              "\n",
              "    [theme=dark] .colab-df-convert {\n",
              "      background-color: #3B4455;\n",
              "      fill: #D2E3FC;\n",
              "    }\n",
              "\n",
              "    [theme=dark] .colab-df-convert:hover {\n",
              "      background-color: #434B5C;\n",
              "      box-shadow: 0px 1px 3px 1px rgba(0, 0, 0, 0.15);\n",
              "      filter: drop-shadow(0px 1px 2px rgba(0, 0, 0, 0.3));\n",
              "      fill: #FFFFFF;\n",
              "    }\n",
              "  </style>\n",
              "\n",
              "      <script>\n",
              "        const buttonEl =\n",
              "          document.querySelector('#df-d50fd10f-4ed6-4c9a-b711-c9a2aa9a84a6 button.colab-df-convert');\n",
              "        buttonEl.style.display =\n",
              "          google.colab.kernel.accessAllowed ? 'block' : 'none';\n",
              "\n",
              "        async function convertToInteractive(key) {\n",
              "          const element = document.querySelector('#df-d50fd10f-4ed6-4c9a-b711-c9a2aa9a84a6');\n",
              "          const dataTable =\n",
              "            await google.colab.kernel.invokeFunction('convertToInteractive',\n",
              "                                                     [key], {});\n",
              "          if (!dataTable) return;\n",
              "\n",
              "          const docLinkHtml = 'Like what you see? Visit the ' +\n",
              "            '<a target=\"_blank\" href=https://colab.research.google.com/notebooks/data_table.ipynb>data table notebook</a>'\n",
              "            + ' to learn more about interactive tables.';\n",
              "          element.innerHTML = '';\n",
              "          dataTable['output_type'] = 'display_data';\n",
              "          await google.colab.output.renderOutput(dataTable, element);\n",
              "          const docLink = document.createElement('div');\n",
              "          docLink.innerHTML = docLinkHtml;\n",
              "          element.appendChild(docLink);\n",
              "        }\n",
              "      </script>\n",
              "    </div>\n",
              "  </div>\n",
              "  "
            ]
          },
          "metadata": {},
          "execution_count": 80
        }
      ]
    },
    {
      "cell_type": "markdown",
      "source": [
        "CONFUSION MATRIX CORRESPONDING TO RANDOM FOREST CLASSIFIER(OPTIMAL MODEL)."
      ],
      "metadata": {
        "id": "U8juPWTrjE_L"
      }
    },
    {
      "cell_type": "code",
      "source": [
        "from sklearn.metrics import confusion_matrix\n",
        "C_MATRIX = confusion_matrix(y_test, pred_rfc)\n",
        "C_MATRIX"
      ],
      "metadata": {
        "colab": {
          "base_uri": "https://localhost:8080/"
        },
        "id": "IUfHL4i6jL7C",
        "outputId": "8ae28522-b863-4ce5-8a79-33163b8093e9"
      },
      "execution_count": 81,
      "outputs": [
        {
          "output_type": "execute_result",
          "data": {
            "text/plain": [
              "array([[25654, 11046],\n",
              "       [16805, 11085]])"
            ]
          },
          "metadata": {},
          "execution_count": 81
        }
      ]
    },
    {
      "cell_type": "markdown",
      "source": [
        "CLASSIFICATION REPORT OF RFC MODEL."
      ],
      "metadata": {
        "id": "XTVciM0Fjc0b"
      }
    },
    {
      "cell_type": "code",
      "source": [
        "from sklearn.metrics import accuracy_score\n",
        "from sklearn.metrics import classification_report\n",
        "\n",
        "print(classification_report(y_test, pred_rfc))"
      ],
      "metadata": {
        "id": "zocY9QIaji2G",
        "colab": {
          "base_uri": "https://localhost:8080/"
        },
        "outputId": "f9157650-d0c3-423e-9ff5-dd43d0254f9a"
      },
      "execution_count": 82,
      "outputs": [
        {
          "output_type": "stream",
          "name": "stdout",
          "text": [
            "              precision    recall  f1-score   support\n",
            "\n",
            "           0       0.60      0.70      0.65     36700\n",
            "           1       0.50      0.40      0.44     27890\n",
            "\n",
            "    accuracy                           0.57     64590\n",
            "   macro avg       0.55      0.55      0.55     64590\n",
            "weighted avg       0.56      0.57      0.56     64590\n",
            "\n"
          ]
        }
      ]
    },
    {
      "cell_type": "code",
      "source": [
        "#THEN ROC area under curve value\n",
        "\n",
        "ax = sns.heatmap(C_MATRIX/np.sum(C_MATRIX), annot=True, fmt='.2%', cmap='Blues')\n",
        "ax.set_title(' Confusion Matrix corresponding to Random Forest Classifier algorithm \\n');\n",
        "ax.set_xlabel('\\nPredicted Values')\n",
        "ax.set_ylabel('Actual Values ');\n",
        "\n",
        "## Ticket labels - List must be in alphabetical order\n",
        "ax.xaxis.set_ticklabels(['0','1'])\n",
        "ax.yaxis.set_ticklabels(['0','1'])\n",
        "\n",
        "## Display the visualization of the Confusion Matrix.\n",
        "# plt.savefig(\"cf_matrix_KNN.png\",bbox_inches='tight' )\n",
        "plt.show()\n",
        "print(\"accuracy of Random Forest :\", rfc_acc)"
      ],
      "metadata": {
        "colab": {
          "base_uri": "https://localhost:8080/",
          "height": 340
        },
        "id": "Okl7lQzUjoLH",
        "outputId": "4d950ee2-ed8b-4c62-8a87-9542fd581ef9"
      },
      "execution_count": 83,
      "outputs": [
        {
          "output_type": "display_data",
          "data": {
            "text/plain": [
              "<Figure size 432x288 with 2 Axes>"
            ],
            "image/png": "[encoded data removed]"
          },
          "metadata": {
            "needs_background": "light"
          }
        },
        {
          "output_type": "stream",
          "name": "stdout",
          "text": [
            "accuracy of Random Forest : 56.88032203127419\n"
          ]
        }
      ]
    },
    {
      "cell_type": "code",
      "source": [
        "from sklearn import metrics\n",
        "rfc.fit(X_train_SMOTE, y_train_SMOTE)\n",
        "metrics.plot_roc_curve(rfc, X_test, y_test)\n",
        "plt.plot([0, 1], [0, 1], 'g--')\n",
        "plt.xlim([0.0, 1.0])\n",
        "plt.ylim([0.0, 1.0])\n",
        "plt.xlabel('False Positive Rate')\n",
        "plt.ylabel('True Positive Rate')\n",
        "plt.title('ROC Curve\\n\\n')\n",
        "#plt.savefig(\"ROC Curve.png\", bbox_inches = 'tight')\n",
        "plt.show()"
      ],
      "metadata": {
        "colab": {
          "base_uri": "https://localhost:8080/",
          "height": 325
        },
        "id": "8OpsEIzHkQC5",
        "outputId": "0f39d80e-d2fe-4438-d806-75c233cfb209"
      },
      "execution_count": 84,
      "outputs": [
        {
          "output_type": "display_data",
          "data": {
            "text/plain": [
              "<Figure size 432x288 with 1 Axes>"
            ],
            "image/png": "[encoded data removed]"
          },
          "metadata": {
            "needs_background": "light"
          }
        }
      ]
    },
    {
      "cell_type": "markdown",
      "source": [
        "#FROM ABOVE GRAPH, AREA UNDER THE CURVE SCORE IS 0.58. IT SHOW THAT IT IS AN OPTIMAL CLASSIFIER."
      ],
      "metadata": {
        "id": "0yH5ZQR7krFg"
      }
    },
    {
      "cell_type": "code",
      "source": [
        "print(classification_report(y_test, pred_rfc))"
      ],
      "metadata": {
        "colab": {
          "base_uri": "https://localhost:8080/"
        },
        "id": "350_nuIBk3V2",
        "outputId": "d2dbafa6-400b-4a76-f2db-d571b2160598"
      },
      "execution_count": 85,
      "outputs": [
        {
          "output_type": "stream",
          "name": "stdout",
          "text": [
            "              precision    recall  f1-score   support\n",
            "\n",
            "           0       0.60      0.70      0.65     36700\n",
            "           1       0.50      0.40      0.44     27890\n",
            "\n",
            "    accuracy                           0.57     64590\n",
            "   macro avg       0.55      0.55      0.55     64590\n",
            "weighted avg       0.56      0.57      0.56     64590\n",
            "\n"
          ]
        }
      ]
    }
  ],
  "metadata": {
    "colab": {
      "collapsed_sections": [],
      "name": "capstone_final_code_0767830.ipynb",
      "provenance": []
    },
    "kernelspec": {
      "display_name": "Python 3",
      "name": "python3"
    },
    "language_info": {
      "name": "python"
    }
  },
  "nbformat": 4,
  "nbformat_minor": 0
}